{
  "nbformat": 4,
  "nbformat_minor": 0,
  "metadata": {
    "colab": {
      "provenance": []
    },
    "kernelspec": {
      "name": "python3",
      "display_name": "Python 3"
    },
    "language_info": {
      "name": "python"
    },
    "accelerator": "GPU",
    "gpuClass": "standard"
  },
  "cells": [
    {
      "cell_type": "markdown",
      "source": [
        "#DATA"
      ],
      "metadata": {
        "id": "QKjXQOijGwOL"
      }
    },
    {
      "cell_type": "code",
      "source": [
        "import glob"
      ],
      "metadata": {
        "id": "pDsbAmWgGbHz"
      },
      "execution_count": null,
      "outputs": []
    },
    {
      "cell_type": "code",
      "source": [
        "import glob \n",
        "import numpy as np # Define the path to the main folder \n",
        "main_folder = '/content/drive/MyDrive/DGM/ShapeNet_pointclouds/02691156'\n",
        "# Get the names of all subfolders in the main folder \n",
        "subfolders = glob.glob(main_folder + '/*/') \n",
        "# Initialize the NumPy array to store the point clouds \n",
        "point_clouds = [] \n",
        "# Loop over the subfolders \n",
        "for folder in subfolders: \n",
        "# Get the name of the pointcloud_1024.npy file in the subfolder \n",
        "  file = folder + '/pointcloud_1024.npy'\n",
        "  # Load the .npy file and append it to the NumPy array \n",
        "  point_cloud = np.load(file) \n",
        "  point_clouds.append(point_cloud) \n",
        "# Convert the list of point clouds to a NumPy array \n",
        "point_clouds = np.array(point_clouds)"
      ],
      "metadata": {
        "id": "PQFueh8LFs1i"
      },
      "execution_count": null,
      "outputs": []
    },
    {
      "cell_type": "code",
      "source": [
        "import numpy as np\n"
      ],
      "metadata": {
        "id": "SnKH3RVSIHAn"
      },
      "execution_count": null,
      "outputs": []
    },
    {
      "cell_type": "code",
      "source": [
        "point_clouds = np.load(\"/content/drive/MyDrive/DGM/ShapeNet_pointclouds/train.npy\")"
      ],
      "metadata": {
        "id": "Xxmf0X8sH9H8"
      },
      "execution_count": null,
      "outputs": []
    },
    {
      "cell_type": "code",
      "source": [
        "len(point_clouds)"
      ],
      "metadata": {
        "colab": {
          "base_uri": "https://localhost:8080/"
        },
        "id": "EWGJqSbCILPK",
        "outputId": "a13fc04e-3406-4241-ea0b-8896159be646"
      },
      "execution_count": null,
      "outputs": [
        {
          "output_type": "execute_result",
          "data": {
            "text/plain": [
              "4032"
            ]
          },
          "metadata": {},
          "execution_count": 7
        }
      ]
    },
    {
      "cell_type": "code",
      "source": [
        "import torch\n",
        "from torch.utils.data import TensorDataset, DataLoader\n",
        "\n",
        "\n",
        "# Convert the NumPy array to a PyTorch tensor\n",
        "point_clouds = torch.from_numpy(point_clouds[:4032])\n",
        "\n",
        "# Create a TensorDataset from the tensor\n",
        "dataset = TensorDataset(point_clouds)\n",
        "\n",
        "# Create a DataLoader from the dataset\n",
        "dataloader = DataLoader(dataset, batch_size=16, shuffle=True)"
      ],
      "metadata": {
        "id": "gNzgUCrZGiuE"
      },
      "execution_count": null,
      "outputs": []
    },
    {
      "cell_type": "code",
      "source": [
        "point_clouds = torch.from_numpy(point_clouds[:4032])"
      ],
      "metadata": {
        "id": "NSyH3MukfRSE"
      },
      "execution_count": null,
      "outputs": []
    },
    {
      "cell_type": "code",
      "source": [
        "dataset = TensorDataset(normalized)\n",
        "\n",
        "# Create a DataLoader from the dataset\n",
        "dataloader = DataLoader(dataset, batch_size=32, shuffle=True)"
      ],
      "metadata": {
        "id": "3vyknGYndyqs"
      },
      "execution_count": null,
      "outputs": []
    },
    {
      "cell_type": "code",
      "source": [
        "asdf=np.asarray(point_clouds)"
      ],
      "metadata": {
        "id": "lelzBXzBTMn-"
      },
      "execution_count": null,
      "outputs": []
    },
    {
      "cell_type": "code",
      "source": [
        "np.save('train.npy', asdf)"
      ],
      "metadata": {
        "id": "mSHT7o6QTdpN"
      },
      "execution_count": null,
      "outputs": []
    },
    {
      "cell_type": "code",
      "source": [
        "f=np.load('train.npy') "
      ],
      "metadata": {
        "id": "NIIshC5NTjcm"
      },
      "execution_count": null,
      "outputs": []
    },
    {
      "cell_type": "code",
      "source": [
        "f.shape"
      ],
      "metadata": {
        "id": "A1NREkDcTnE0",
        "outputId": "79e03a15-9084-4ed8-a341-3237906e2701",
        "colab": {
          "base_uri": "https://localhost:8080/"
        }
      },
      "execution_count": null,
      "outputs": [
        {
          "output_type": "execute_result",
          "data": {
            "text/plain": [
              "(4032, 1024, 3)"
            ]
          },
          "metadata": {},
          "execution_count": 235
        }
      ]
    },
    {
      "cell_type": "markdown",
      "source": [
        "#Model"
      ],
      "metadata": {
        "id": "2thS4loMGx1E"
      }
    },
    {
      "cell_type": "code",
      "source": [
        "import torch\n",
        "from torch import nn\n",
        "from torch.utils.data import DataLoader\n",
        "\n",
        "# Define the model\n",
        "class PointCloudAutoEncoder(nn.Module):\n",
        "  def __init__(self):\n",
        "    super().__init__()\n",
        "    \n",
        "    # Encoder layers\n",
        "    self.conv1 = nn.Conv1d(3, 16, kernel_size=3, stride=2, padding=1)\n",
        "    self.conv2 = nn.Conv1d(16, 32, kernel_size=3, stride=2, padding=1)\n",
        "    self.conv3 = nn.Conv1d(32, 8, kernel_size=3, stride=2, padding=1)\n",
        "    \n",
        "    # Latent space\n",
        "    self.fc1 = nn.Linear(1024, 128)\n",
        "    \n",
        "    # Decoder layers\n",
        "    self.fc2 = nn.Linear(128, 1024)\n",
        "    self.deconv1 = nn.ConvTranspose1d(64, 32, kernel_size=4, stride=4)\n",
        "    self.deconv2 = nn.ConvTranspose1d(32, 16,kernel_size=4, stride=4)\n",
        "    self.deconv3 = nn.ConvTranspose1d(16, 3, kernel_size=4, stride=4)\n",
        "    \n",
        "  def forward(self, x):\n",
        "  # Encoder\n",
        "    x = self.conv1(x)\n",
        "    x = self.conv2(x)\n",
        "    x = self.conv3(x)\n",
        "    \n",
        "    # Latent space\n",
        "    x = x.view(x.size(0), -1)\n",
        "    x = self.fc1(x)\n",
        "    \n",
        "    # Decoder\n",
        "    x = self.fc2(x)\n",
        "    x = x.view(x.size(0), 64, 16)\n",
        "    x = self.deconv1(x)\n",
        "    x = self.deconv2(x)\n",
        "    x = self.deconv3(x)\n",
        "    \n",
        "    return x\n",
        "\n"
      ],
      "metadata": {
        "id": "8FW8hRSJGyi9"
      },
      "execution_count": null,
      "outputs": []
    },
    {
      "cell_type": "markdown",
      "source": [
        "#Training"
      ],
      "metadata": {
        "id": "ZOPDWyrsG5q0"
      }
    },
    {
      "cell_type": "code",
      "source": [
        "num_epochs=100"
      ],
      "metadata": {
        "id": "vgZgGilQNX6X"
      },
      "execution_count": null,
      "outputs": []
    },
    {
      "cell_type": "code",
      "source": [
        "import torch\n",
        "from torch import optim\n",
        "\n",
        "# Define the model and move it to the GPU\n",
        "model = PointCloudAutoEncoder()\n",
        "if torch.cuda.is_available():\n",
        "    model = model.cuda()\n",
        "\n",
        "# Define the optimizer and loss function\n",
        "optimizer = optim.Adam(model.parameters())\n",
        "loss_fn = torch.nn.MSELoss()\n",
        "\n",
        "\n",
        "# Train the model\n",
        "for epoch in range(num_epochs):\n",
        "  for data in dataloader:\n",
        "      # Move the data to the GPU\n",
        "      if torch.cuda.is_available():\n",
        "          data = data[0].reshape(-1,3,1024).to(\"cuda\", dtype=torch.float)\n",
        "\n",
        "      # Forward pass\n",
        "      output = model(data)\n",
        "\n",
        "      # Calculate the loss\n",
        "      loss = loss_fn(output, data)\n",
        "      print(loss)\n",
        "      # Backward pass and optimize\n",
        "      optimizer.zero_grad()\n",
        "      loss.backward()\n",
        "      optimizer.step()\n"
      ],
      "metadata": {
        "id": "6MBQREfNG7Cb"
      },
      "execution_count": null,
      "outputs": []
    },
    {
      "cell_type": "code",
      "source": [
        "x=point_clouds[1000].reshape(-1,3,1024)\n",
        "x.shape"
      ],
      "metadata": {
        "colab": {
          "base_uri": "https://localhost:8080/"
        },
        "id": "slU-2wCwN5Ty",
        "outputId": "30b0897e-2342-4598-809f-bfc79363733e"
      },
      "execution_count": null,
      "outputs": [
        {
          "output_type": "execute_result",
          "data": {
            "text/plain": [
              "torch.Size([1, 3, 1024])"
            ]
          },
          "metadata": {},
          "execution_count": 223
        }
      ]
    },
    {
      "cell_type": "code",
      "source": [
        "x=x.to(\"cuda\", dtype=torch.float)\n",
        "output = model(x)"
      ],
      "metadata": {
        "id": "7k85L6eKJU9_"
      },
      "execution_count": null,
      "outputs": []
    },
    {
      "cell_type": "code",
      "source": [
        "z=np.asarray(output.reshape(1024,3).to(\"cpu\").detach())"
      ],
      "metadata": {
        "id": "G5z5Cf1WJaXT"
      },
      "execution_count": null,
      "outputs": []
    },
    {
      "cell_type": "code",
      "source": [
        "len(z)"
      ],
      "metadata": {
        "colab": {
          "base_uri": "https://localhost:8080/"
        },
        "id": "9IbGQIMbKz0D",
        "outputId": "0ce4d8b9-a0c8-41d8-b80c-8c43bb6945e4"
      },
      "execution_count": null,
      "outputs": [
        {
          "output_type": "execute_result",
          "data": {
            "text/plain": [
              "1024"
            ]
          },
          "metadata": {},
          "execution_count": 114
        }
      ]
    },
    {
      "cell_type": "code",
      "source": [
        "np.save('r2.npy', z)"
      ],
      "metadata": {
        "id": "T1i9NiWiO2ES"
      },
      "execution_count": null,
      "outputs": []
    },
    {
      "cell_type": "code",
      "source": [
        "model.conv1"
      ],
      "metadata": {
        "colab": {
          "base_uri": "https://localhost:8080/"
        },
        "id": "6x1-bg_iPFnQ",
        "outputId": "de8d8406-2fec-474c-dbeb-f5ac045f2d55"
      },
      "execution_count": null,
      "outputs": [
        {
          "output_type": "execute_result",
          "data": {
            "text/plain": [
              "Conv1d(3, 16, kernel_size=(3,), stride=(2,), padding=(1,))"
            ]
          },
          "metadata": {},
          "execution_count": 105
        }
      ]
    },
    {
      "cell_type": "code",
      "source": [
        "import pandas as pd"
      ],
      "metadata": {
        "id": "Ai5TZ9MVb3pj"
      },
      "execution_count": null,
      "outputs": []
    },
    {
      "cell_type": "code",
      "source": [
        "z=point_clouds[1000]"
      ],
      "metadata": {
        "id": "EDxqYt1bcZRj"
      },
      "execution_count": null,
      "outputs": []
    },
    {
      "cell_type": "code",
      "source": [
        "df = pd.DataFrame(z, columns = ['A','B','C'])\n"
      ],
      "metadata": {
        "id": "bLNch1sCb0Dh"
      },
      "execution_count": null,
      "outputs": []
    },
    {
      "cell_type": "code",
      "source": [
        "z.shape"
      ],
      "metadata": {
        "colab": {
          "base_uri": "https://localhost:8080/"
        },
        "id": "TaomjyYatxbu",
        "outputId": "e2da645f-c0c2-4aa4-9120-dfd3fc104f00"
      },
      "execution_count": null,
      "outputs": [
        {
          "output_type": "execute_result",
          "data": {
            "text/plain": [
              "(1024, 3)"
            ]
          },
          "metadata": {},
          "execution_count": 187
        }
      ]
    },
    {
      "cell_type": "code",
      "source": [
        "df"
      ],
      "metadata": {
        "colab": {
          "base_uri": "https://localhost:8080/",
          "height": 419
        },
        "id": "bzsEjXyhcDXp",
        "outputId": "6adbee83-3d2d-4c8f-f52a-c814a163d0ce"
      },
      "execution_count": null,
      "outputs": [
        {
          "output_type": "execute_result",
          "data": {
            "text/plain": [
              "                                         A  \\\n",
              "0     tensor(-0.0029, dtype=torch.float64)   \n",
              "1      tensor(0.0057, dtype=torch.float64)   \n",
              "2      tensor(0.0060, dtype=torch.float64)   \n",
              "3      tensor(0.0057, dtype=torch.float64)   \n",
              "4     tensor(-0.0119, dtype=torch.float64)   \n",
              "...                                    ...   \n",
              "1019   tensor(0.0298, dtype=torch.float64)   \n",
              "1020  tensor(-0.0194, dtype=torch.float64)   \n",
              "1021  tensor(-0.0444, dtype=torch.float64)   \n",
              "1022   tensor(0.0061, dtype=torch.float64)   \n",
              "1023  tensor(-0.0263, dtype=torch.float64)   \n",
              "\n",
              "                                         B  \\\n",
              "0      tensor(0.0230, dtype=torch.float64)   \n",
              "1      tensor(0.0037, dtype=torch.float64)   \n",
              "2     tensor(-0.1527, dtype=torch.float64)   \n",
              "3      tensor(0.1571, dtype=torch.float64)   \n",
              "4     tensor(-0.2798, dtype=torch.float64)   \n",
              "...                                    ...   \n",
              "1019  tensor(-0.0623, dtype=torch.float64)   \n",
              "1020  tensor(-0.0734, dtype=torch.float64)   \n",
              "1021  tensor(-0.0176, dtype=torch.float64)   \n",
              "1022  tensor(-0.1220, dtype=torch.float64)   \n",
              "1023   tensor(0.0566, dtype=torch.float64)   \n",
              "\n",
              "                                         C  \n",
              "0      tensor(0.0137, dtype=torch.float64)  \n",
              "1      tensor(0.4825, dtype=torch.float64)  \n",
              "2     tensor(-0.2984, dtype=torch.float64)  \n",
              "3     tensor(-0.2750, dtype=torch.float64)  \n",
              "4      tensor(0.0319, dtype=torch.float64)  \n",
              "...                                    ...  \n",
              "1019  tensor(-0.0842, dtype=torch.float64)  \n",
              "1020   tensor(0.0311, dtype=torch.float64)  \n",
              "1021   tensor(0.0612, dtype=torch.float64)  \n",
              "1022  tensor(-0.2405, dtype=torch.float64)  \n",
              "1023  tensor(-0.0473, dtype=torch.float64)  \n",
              "\n",
              "[1024 rows x 3 columns]"
            ],
            "text/html": [
              "\n",
              "  <div id=\"df-7539a1c9-d936-4667-8168-a5be93546f38\">\n",
              "    <div class=\"colab-df-container\">\n",
              "      <div>\n",
              "<style scoped>\n",
              "    .dataframe tbody tr th:only-of-type {\n",
              "        vertical-align: middle;\n",
              "    }\n",
              "\n",
              "    .dataframe tbody tr th {\n",
              "        vertical-align: top;\n",
              "    }\n",
              "\n",
              "    .dataframe thead th {\n",
              "        text-align: right;\n",
              "    }\n",
              "</style>\n",
              "<table border=\"1\" class=\"dataframe\">\n",
              "  <thead>\n",
              "    <tr style=\"text-align: right;\">\n",
              "      <th></th>\n",
              "      <th>A</th>\n",
              "      <th>B</th>\n",
              "      <th>C</th>\n",
              "    </tr>\n",
              "  </thead>\n",
              "  <tbody>\n",
              "    <tr>\n",
              "      <th>0</th>\n",
              "      <td>tensor(-0.0029, dtype=torch.float64)</td>\n",
              "      <td>tensor(0.0230, dtype=torch.float64)</td>\n",
              "      <td>tensor(0.0137, dtype=torch.float64)</td>\n",
              "    </tr>\n",
              "    <tr>\n",
              "      <th>1</th>\n",
              "      <td>tensor(0.0057, dtype=torch.float64)</td>\n",
              "      <td>tensor(0.0037, dtype=torch.float64)</td>\n",
              "      <td>tensor(0.4825, dtype=torch.float64)</td>\n",
              "    </tr>\n",
              "    <tr>\n",
              "      <th>2</th>\n",
              "      <td>tensor(0.0060, dtype=torch.float64)</td>\n",
              "      <td>tensor(-0.1527, dtype=torch.float64)</td>\n",
              "      <td>tensor(-0.2984, dtype=torch.float64)</td>\n",
              "    </tr>\n",
              "    <tr>\n",
              "      <th>3</th>\n",
              "      <td>tensor(0.0057, dtype=torch.float64)</td>\n",
              "      <td>tensor(0.1571, dtype=torch.float64)</td>\n",
              "      <td>tensor(-0.2750, dtype=torch.float64)</td>\n",
              "    </tr>\n",
              "    <tr>\n",
              "      <th>4</th>\n",
              "      <td>tensor(-0.0119, dtype=torch.float64)</td>\n",
              "      <td>tensor(-0.2798, dtype=torch.float64)</td>\n",
              "      <td>tensor(0.0319, dtype=torch.float64)</td>\n",
              "    </tr>\n",
              "    <tr>\n",
              "      <th>...</th>\n",
              "      <td>...</td>\n",
              "      <td>...</td>\n",
              "      <td>...</td>\n",
              "    </tr>\n",
              "    <tr>\n",
              "      <th>1019</th>\n",
              "      <td>tensor(0.0298, dtype=torch.float64)</td>\n",
              "      <td>tensor(-0.0623, dtype=torch.float64)</td>\n",
              "      <td>tensor(-0.0842, dtype=torch.float64)</td>\n",
              "    </tr>\n",
              "    <tr>\n",
              "      <th>1020</th>\n",
              "      <td>tensor(-0.0194, dtype=torch.float64)</td>\n",
              "      <td>tensor(-0.0734, dtype=torch.float64)</td>\n",
              "      <td>tensor(0.0311, dtype=torch.float64)</td>\n",
              "    </tr>\n",
              "    <tr>\n",
              "      <th>1021</th>\n",
              "      <td>tensor(-0.0444, dtype=torch.float64)</td>\n",
              "      <td>tensor(-0.0176, dtype=torch.float64)</td>\n",
              "      <td>tensor(0.0612, dtype=torch.float64)</td>\n",
              "    </tr>\n",
              "    <tr>\n",
              "      <th>1022</th>\n",
              "      <td>tensor(0.0061, dtype=torch.float64)</td>\n",
              "      <td>tensor(-0.1220, dtype=torch.float64)</td>\n",
              "      <td>tensor(-0.2405, dtype=torch.float64)</td>\n",
              "    </tr>\n",
              "    <tr>\n",
              "      <th>1023</th>\n",
              "      <td>tensor(-0.0263, dtype=torch.float64)</td>\n",
              "      <td>tensor(0.0566, dtype=torch.float64)</td>\n",
              "      <td>tensor(-0.0473, dtype=torch.float64)</td>\n",
              "    </tr>\n",
              "  </tbody>\n",
              "</table>\n",
              "<p>1024 rows × 3 columns</p>\n",
              "</div>\n",
              "      <button class=\"colab-df-convert\" onclick=\"convertToInteractive('df-7539a1c9-d936-4667-8168-a5be93546f38')\"\n",
              "              title=\"Convert this dataframe to an interactive table.\"\n",
              "              style=\"display:none;\">\n",
              "        \n",
              "  <svg xmlns=\"http://www.w3.org/2000/svg\" height=\"24px\"viewBox=\"0 0 24 24\"\n",
              "       width=\"24px\">\n",
              "    <path d=\"M0 0h24v24H0V0z\" fill=\"none\"/>\n",
              "    <path d=\"M18.56 5.44l.94 2.06.94-2.06 2.06-.94-2.06-.94-.94-2.06-.94 2.06-2.06.94zm-11 1L8.5 8.5l.94-2.06 2.06-.94-2.06-.94L8.5 2.5l-.94 2.06-2.06.94zm10 10l.94 2.06.94-2.06 2.06-.94-2.06-.94-.94-2.06-.94 2.06-2.06.94z\"/><path d=\"M17.41 7.96l-1.37-1.37c-.4-.4-.92-.59-1.43-.59-.52 0-1.04.2-1.43.59L10.3 9.45l-7.72 7.72c-.78.78-.78 2.05 0 2.83L4 21.41c.39.39.9.59 1.41.59.51 0 1.02-.2 1.41-.59l7.78-7.78 2.81-2.81c.8-.78.8-2.07 0-2.86zM5.41 20L4 18.59l7.72-7.72 1.47 1.35L5.41 20z\"/>\n",
              "  </svg>\n",
              "      </button>\n",
              "      \n",
              "  <style>\n",
              "    .colab-df-container {\n",
              "      display:flex;\n",
              "      flex-wrap:wrap;\n",
              "      gap: 12px;\n",
              "    }\n",
              "\n",
              "    .colab-df-convert {\n",
              "      background-color: #E8F0FE;\n",
              "      border: none;\n",
              "      border-radius: 50%;\n",
              "      cursor: pointer;\n",
              "      display: none;\n",
              "      fill: #1967D2;\n",
              "      height: 32px;\n",
              "      padding: 0 0 0 0;\n",
              "      width: 32px;\n",
              "    }\n",
              "\n",
              "    .colab-df-convert:hover {\n",
              "      background-color: #E2EBFA;\n",
              "      box-shadow: 0px 1px 2px rgba(60, 64, 67, 0.3), 0px 1px 3px 1px rgba(60, 64, 67, 0.15);\n",
              "      fill: #174EA6;\n",
              "    }\n",
              "\n",
              "    [theme=dark] .colab-df-convert {\n",
              "      background-color: #3B4455;\n",
              "      fill: #D2E3FC;\n",
              "    }\n",
              "\n",
              "    [theme=dark] .colab-df-convert:hover {\n",
              "      background-color: #434B5C;\n",
              "      box-shadow: 0px 1px 3px 1px rgba(0, 0, 0, 0.15);\n",
              "      filter: drop-shadow(0px 1px 2px rgba(0, 0, 0, 0.3));\n",
              "      fill: #FFFFFF;\n",
              "    }\n",
              "  </style>\n",
              "\n",
              "      <script>\n",
              "        const buttonEl =\n",
              "          document.querySelector('#df-7539a1c9-d936-4667-8168-a5be93546f38 button.colab-df-convert');\n",
              "        buttonEl.style.display =\n",
              "          google.colab.kernel.accessAllowed ? 'block' : 'none';\n",
              "\n",
              "        async function convertToInteractive(key) {\n",
              "          const element = document.querySelector('#df-7539a1c9-d936-4667-8168-a5be93546f38');\n",
              "          const dataTable =\n",
              "            await google.colab.kernel.invokeFunction('convertToInteractive',\n",
              "                                                     [key], {});\n",
              "          if (!dataTable) return;\n",
              "\n",
              "          const docLinkHtml = 'Like what you see? Visit the ' +\n",
              "            '<a target=\"_blank\" href=https://colab.research.google.com/notebooks/data_table.ipynb>data table notebook</a>'\n",
              "            + ' to learn more about interactive tables.';\n",
              "          element.innerHTML = '';\n",
              "          dataTable['output_type'] = 'display_data';\n",
              "          await google.colab.output.renderOutput(dataTable, element);\n",
              "          const docLink = document.createElement('div');\n",
              "          docLink.innerHTML = docLinkHtml;\n",
              "          element.appendChild(docLink);\n",
              "        }\n",
              "      </script>\n",
              "    </div>\n",
              "  </div>\n",
              "  "
            ]
          },
          "metadata": {},
          "execution_count": 148
        }
      ]
    },
    {
      "cell_type": "code",
      "source": [
        "import plotly.express as px\n",
        "fig = px.scatter_3d(df ,x='A', y='B', z='C')\n",
        "fig.show()\n"
      ],
      "metadata": {
        "colab": {
          "base_uri": "https://localhost:8080/",
          "height": 542
        },
        "id": "JVYIemfyYyv8",
        "outputId": "88112b81-e1e3-45bf-891e-bcdf47665cdb"
      },
      "execution_count": null,
      "outputs": [
        {
          "output_type": "display_data",
          "data": {
            "text/html": [
              "<html>\n",
              "<head><meta charset=\"utf-8\" /></head>\n",
              "<body>\n",
              "    <div>            <script src=\"https://cdnjs.cloudflare.com/ajax/libs/mathjax/2.7.5/MathJax.js?config=TeX-AMS-MML_SVG\"></script><script type=\"text/javascript\">if (window.MathJax) {MathJax.Hub.Config({SVG: {font: \"STIX-Web\"}});}</script>                <script type=\"text/javascript\">window.PlotlyConfig = {MathJaxConfig: 'local'};</script>\n",
              "        <script src=\"https://cdn.plot.ly/plotly-2.8.3.min.js\"></script>                <div id=\"72dd6306-a96a-412e-ad08-ecdea002076a\" class=\"plotly-graph-div\" style=\"height:525px; width:100%;\"></div>            <script type=\"text/javascript\">                                    window.PLOTLYENV=window.PLOTLYENV || {};                                    if (document.getElementById(\"72dd6306-a96a-412e-ad08-ecdea002076a\")) {                    Plotly.newPlot(                        \"72dd6306-a96a-412e-ad08-ecdea002076a\",                        [{\"hovertemplate\":\"A=%{x}<br>B=%{y}<br>C=%{z}<extra></extra>\",\"legendgroup\":\"\",\"marker\":{\"color\":\"#636efa\",\"symbol\":\"circle\"},\"mode\":\"markers\",\"name\":\"\",\"scene\":\"scene\",\"showlegend\":false,\"x\":[-0.02829265449812111,-0.0689070210860389,-0.06874402880437472,-0.02369817243067638,-0.06403741150602564,-0.06449040031491707,-0.11653865161126013,-0.008051584215103508,0.03302045041233661,-0.007687970346672004,-0.059366129641915844,-0.04654270367527591,-0.058901475912566774,-0.012846984884396456,-0.06634364049721411,-0.06577443004513445,-0.06517179193999098,0.048428715286280836,0.05833538704011732,-0.06444489859963584,0.04880138627065202,0.022205256372910334,-0.010681058322470252,-0.013823857781012031,-0.010560577435837456,-0.06528466202899852,-0.08975584704927134,-0.06205243470054847,-0.06626369340888981,-0.0070885607775536446,-0.021437650552258717,-0.06317896014596641,-0.05553637731471433,-0.05654964987522164,-0.06370374455024798,-0.05673161293491252,-0.06337994629538107,-0.009026938039679279,-0.06536575827890144,-0.057914112626917924,-0.06399949620784963,-0.00017665511793684004,-0.06535277254546801,0.05350625519165626,-0.006146359563282977,0.018982477474529264,-0.007621989889906631,0.007184771160547357,-0.05572689114294908,-0.03640772773053029,-0.06666069812614052,-0.007654981953477012,0.03291595021452098,0.051736036381860216,-0.06208374688935021,-0.0655163227645584,-0.06577844022094802,-0.05227816084226198,-0.011662149141136655,-0.012266409344098804,-0.06509316421558384,0.011033045942052047,0.012085214590993385,0.026383658394259702,-0.03743400268382361,-0.06811519500918643,0.006334083859256294,0.017321199539197214,-0.02641352076793817,0.01455654914301908,-0.05149388788472623,-0.055192823060257225,-0.0675210305090498,-0.014073208008426862,-0.05867587427907488,-0.060079649240640846,-0.039681489195274165,-0.06883370084762538,-0.12079148983771404,-0.06691180778704306,-0.07044796502020541,-0.00905454552226011,-0.07090383723498574,-0.006285648659727084,-0.060032770199106994,0.006413039040512374,-0.06416583009273988,-0.057532587330893836,-0.05073433463350403,0.011870930942264607,0.06604657983839307,-0.05527241113279967,-0.058074853490964876,0.02809822411396016,-0.016664405353812837,-0.040675113092052066,0.01829973045285092,-0.011741266123584952,-0.0564466167181255,-0.06522248714703943,-0.008541081824424139,-0.016702046639833844,-0.06559764662617576,-0.048942277897801416,-0.027246623522128442,-0.03669498821476213,-0.05661952303270542,-0.06757648796278895,0.02943484573130504,-0.01870854613026379,-0.021139385928105627,-0.015000928113798367,-0.06836978137340716,-0.055493476293975746,0.0022185927384986708,-0.03177729472675031,-0.06239546778099426,0.022792742879455024,0.021385152471838104,0.03610280187119273,-0.05932399332355534,-0.06777513341811965,-0.028400117108345817,-0.011708637014073526,-0.026563751209241388,-0.05486829471052628,-0.008330973417483456,-0.05595192286283611,-0.050297602045873226,0.06806838941839297,-0.06670352217792092,-0.06025663980652402,-0.06113594335526955,-0.02281912451859374,0.02051540601872037,-0.06452044024054124,0.06842913139876426,-0.03996217405795953,-0.0670043916116266,0.01685881757401047,0.02388968930765641,-0.0692487737951002,-0.01957899574637957,-0.061995459914303656,-0.015429254334644418,-0.03907618039306453,-0.044551262616989946,-0.0595661788508506,-0.09397980336978992,-0.06602888126723273,-0.013473735097374921,-0.007548673901762235,0.007046406740676253,-0.0032310164403482546,-0.0562184069576571,-0.035169280768745766,0.03194830361777806,0.013680746616669062,-0.03221395838007042,0.029738614287766738,-0.06225506920145009,-0.06744385610380281,-0.0429684390677733,-0.012118237866269725,-0.018569382224258375,-0.033976056368177285,-0.06933267274414118,-0.06210576832496292,-0.06192146529316084,0.004303796421210319,-0.05764126146967212,-0.007398498253942115,-0.066396304244791,-0.06622554447785513,-0.00883068186833906,-0.01175349808118296,-0.06722439868634933,-0.006941577567018682,-0.06403081971158271,-0.056710681182628925,-0.014856204526705427,-0.06738503288455248,-0.06824276295330042,-0.06935456251609894,-0.02978849127534381,0.007402547638623051,-0.05581839744214886,0.0011523450801449728,-0.0574911358427562,-0.06143366374613091,0.02215775071865392,-0.06353019561174018,-0.015017179551110586,0.0312811420356054,-0.007409713127185681,-0.06565713809316073,-0.008217127479871366,-0.05564670808185274,-0.06822747779041043,-0.0134597567043844,-0.068709588176327,-0.035262491322666074,0.044244187177827576,-0.08693400185357801,0.015037603136158673,-0.056278854082198966,0.0015781241322109065,-0.03146723577983419,0.008546012750610194,-0.031667121917223984,-0.06425692046156133,0.006732542015397789,0.008800042444396361,0.018934427230032542,-0.0318918348642953,-0.06682209576072967,0.02477362863551168,-0.05672435373751273,-0.07061253961233402,-0.05455102110160083,-0.06502603459058531,-0.0520454445323158,-0.06736774825708741,-0.06806700181546187,-0.06914554972035668,0.012941269297838266,-0.06304046969625995,-0.012827423762210752,-0.04672607604663172,-0.06845363144223264,-0.018233364083780935,0.02639146859326741,-0.07022085344532979,0.005286759366067359,-0.06840415342584233,-0.011990075296415697,0.008801067473585514,-0.06714964007697015,-0.06429247654245002,-0.0643607522192771,-0.032218632483997076,-0.05585039043225008,-0.022757011046132685,-0.0603422792446368,0.04559955478979738,-0.009595937402130359,-0.04661659655853321,-0.04208898102482392,-0.012117347127403201,-0.03883177100792273,-0.06422752767976746,-0.0646435588477288,-0.06768870290973526,0.025893430845022394,-0.06962836340500371,-0.06030646750446493,-0.06498889950085897,-0.005970450351894653,0.046040709038170306,-0.06148730696302702,0.010777865409898954,-0.04323100871903904,-0.026549671666366924,-0.05593016753927122,0.030467519935273954,0.07093976760657954,-0.059556452079218246,-0.03484039647957362,-0.06776356513215688,-0.037249557486703326,-0.06481046755458332,-0.06788344003772086,-0.0671865515804022,-0.0498239279187537,-0.035813181068030144,-0.059312748589250064,-0.06709821356520304,-0.007423129348949955,-0.05758171032055881,0.016584046748191947,0.0035648588708258734,-0.035275795477633355,-0.10752970035922665,0.01740792343950946,0.028126640522508885,0.011942168535028856,-0.06623181978280426,-0.01409067220543607,0.02925823358700388,-0.11716828397420584,-0.05751749341152098,-0.02448661336544556,-0.01642859964174662,-0.06495923899512988,-0.055829033644558705,-0.021505895653719107,-0.05705307457254589,-0.0650466089427523,0.0031624856631798735,-0.060926009340559924,0.017934340148668345,-0.05924549512223427,-0.056281648252310634,0.04891202534685447,-0.06277039369737021,-0.05662780803157823,-0.00945233555285384,0.05630298558735939,-0.03882790849491117,-5.881990178157372e-05,0.002601617703765637,-0.042361014787665976,-0.007119405917969291,0.01763224979079212,-0.06073590218369299,-0.0029546557043100175,-0.0629342077878212,-0.009671531657637419,-0.06252719379133051,-0.06469095608533282,-0.06752318679332679,-0.06601569840183746,-0.025662137307646406,-0.030901052756186837,0.04811850176913879,-0.031681417599481065,-0.06078298781056733,-0.024540754620704146,-0.0598302229049589,-0.01222578606641619,-0.055361251534392746,-0.05857533614252819,-0.0640041416253622,-0.0133318542591978,0.0058119624999841395,-0.05713668708632363,0.052701797597667924,-0.06646023430633444,-0.062388564188989956,-0.02861959706420119,0.01484725687917861,-0.02887999852622165,-0.010908677898349943,-0.012181878321860835,-0.06630634834601562,-0.017541524894319437,0.006797636490173482,-0.0443737585522558,-0.06416787271273156,-0.0562480582546963,-0.007648502804070323,-0.03497598447259092,0.0010687508819428977,-0.0699834652574953,0.021576118916468334,0.0464767668710353,-0.05584179187639028,0.00623837448895577,0.0036742427949873107,-0.06971716268798446,-0.009719895440520133,0.0240265111329158,-0.02712631342140719,-0.002503960471117192,-0.06587332253147908,-0.009598228592300004,-0.01001367839667525,-0.06685491863029727,0.03838875350232287,-0.058607387064681084,-0.011401240117807188,-0.06623570133099586,-0.009637080387621465,-0.04257969528518896,-0.057028365789188094,-0.0579217252443933,-0.010551377779797734,0.02448964328832846,-0.06309437563910718,-0.05419667456399594,-0.042340701515283984,-0.06150823519581705,-0.03139047238550173,-0.007993752170511244,0.028582318149997895,-0.06760373204772853,0.0012708590368012453,-0.05751818154920779,-0.060439468456265556,0.01004612718584232,-0.06643582671094353,-0.02470288915364095,0.026191793456710265,-0.05741545585109286,0.01335127082441808,-0.060340545276819764,-0.02335208516655549,-0.009300398411265681,-0.0362571543250317,-0.0619912418674532,-0.054926408950841464,0.06704649137149045,-0.0311482237725679,0.024599678615724013,-0.09974861369791871,-0.0032525379218440328,-0.06267355603528002,-0.06858335157860468,0.004254665059016629,-0.060597449165091084,-0.009033854729158056,-0.06664542325647037,-0.011430160390329767,-0.07193803369222306,-0.015034470313332634,-0.004875626836194734,-0.007215563583458207,0.017204882008563217,-0.013891062992880164,-0.01917845222028713,-0.011321230353222146,0.03236530979380485,-0.01403316557381443,-0.05622913955878386,-0.05735130017822549,-0.0450639479257874,-0.06370501201148844,-0.004997715327882591,-0.050170310409748856,0.005878918864083791,0.007731283094320727,0.01157864011760879,-0.060158757024544623,-0.04012136265135547,0.03184793963701689,-0.05497315112437836,-0.07468673372412718,-0.06708006754168369,-0.05498738651170158,0.017300077667904548,-0.057481861905084856,-0.060704521562719924,-0.06270042749386205,-0.06726704982411387,0.01893178116885661,-0.0679149173102636,-0.030762339993144778,-0.03758345738621432,-0.010571083558952232,-0.0038473087372715925,-0.060473750982193965,0.012917089618916496,-0.024353738004366007,0.00834547431570513,-0.03897053048744563,-0.06757138039971616,0.014264671429257768,-0.10372362526676238,-0.020371153777776044,-0.015504163616659005,-0.060427773729918616,-0.05867493684835495,-0.021080305126449837,-0.06706034279243601,-0.05447917795316906,-0.06748794968570863,-0.0583311637172379,-0.06501811912091092,0.05585676272137028,-0.014595438746980072,-0.0634857194330496,-0.06857070906088787,-0.058661769089272266,-0.013073181352649791,-0.03760010079486282,-0.07892853570284476,-0.009413538222510114,0.06018543276488849,-0.03247875230920961,-0.06075045935035992,0.02456401924536439,-0.06811404209937731,0.019910448226135576,-0.06427046096139165,-0.0625362297490783,-0.010246765620367899,-0.05606139154740331,-0.05947547248921189,-0.056613804614583166,-0.06271145460016833,-0.013318867581154477,-0.00854400474564463,-0.06777261654687816,-0.0657533424547606,-0.06333159492991927,-0.029618530641063765,-0.06195127121507396,0.03251234124922199,0.025709235380022837,-0.03271059253947104,-0.012879061689535055,-0.06795926446949588,-0.05647397729306316,-0.013253068066528536,-0.05999656298765127,-0.0610751566134642,-0.012004304303987103,-0.057143379296685726,-0.0295805679259011,-0.06637728000812608,-0.015417241393190333,-0.06489036669983121,0.0003715888431148196,-0.04249074427454381,-0.06608392510329411,-0.05625283548148564,-0.05964252549228766,-0.02660110731341122,-0.03239396341605208,-0.007525238666868405,-0.012183012539551981,0.05861294790965949,0.07044139292265199,-0.06919500880056578,-0.06762741141249712,-0.059882591606491925,-0.034757028700940426,0.054439609662750806,-0.04904145975991221,0.05397025663761743,-0.04593768142837115,-0.05164191233526317,0.03912954416575636,0.007093534265882227,-0.055947388702774416,-0.0008924632555369297,-0.06360554195252209,0.017761344480309162,0.0576182081314251,-0.0465662172465322,-0.07563891027251328,-0.06792817880645159,-0.06486287332869196,-0.0659251279880199,-0.06730892637180104,-0.07079992734110135,-0.0715488255504252,-0.038326784514885026,-0.016780998517151688,-0.025579784169530537,-0.06571495969910966,0.029401635768838367,-0.06720091350545056,0.031677333116754795,-0.050416274304460836,-0.055094450055632106,-0.032738852987449135,0.013772528560080604,0.019256465784820435,-0.06229019236686797,-0.05587324264432545,-0.06178972421564484,-0.06150372483508557,-0.05938014998973554,-0.051753479181881945,-0.06273584883625455,-0.02861869337340161,-0.0625296188486557,-0.02213616511018717,-0.00859011471490944,-0.0549330960306384,-0.04871793667851562,-0.06514721917855752,0.02846579429683009,-0.05901381721282907,-0.0657524455621919,-0.0607700584748486,-0.046313696053741575,0.017828934711586357,-0.06123793972792154,-0.01807581471830204,0.02168660181441128,-0.060815484766253064,-0.03778839354275369,0.014890551430765828,-0.0244128061627998,-0.055147455346316064,-0.06350564403137905,-0.06387810543399662,-0.03923933457033916,-0.06314895973372704,0.04040569703879066,0.02631299066463029,0.012207961813378418,-0.02308504888985276,-0.008286841581283748,-0.06429596018974058,-0.00457006283607128,-0.07871173550757225,-0.06390594376048431,-0.03146493573418719,-0.0017461235360458085,0.041905419378733544,0.02573388161490719,0.002890372816413142,0.018212121031955786,0.00020393692874156742,-0.009806092334511319,-0.06376112771578075,-0.059985619052788576,-0.06002886848879997,-0.00147460424581188,0.027285465498513645,0.02002243974405014,-0.02077024385557154,-0.04989839314952773,0.044834149371726334,-0.05455570249260022,-0.0709790592188326,0.059013871598454566,-0.03356116292460106,-0.053183778822392426,0.02434886519099514,-0.022188710911234803,-0.05965606851701773,-0.0658336908080321,-0.06807362168534838,-0.06145651656794152,-0.011124058783586447,-0.045613828050958684,0.009016115153082427,-0.02985642434881947,0.031150648858496065,-0.06441087260866485,-0.05483456404702697,-0.05660317826952446,-0.010642772855243413,-0.056397864449113426,-0.009557050422659807,-0.06410991266768332,-0.058320120568232985,-0.02412733020731843,-0.06556981604938289,-0.06324442756532653,-0.010862357773648253,-0.02400461036674911,0.05823459580995489,0.031800429620732346,-0.05751427076084622,-0.00916320628523428,-0.05586395690391864,-0.06480023093701491,-0.060762238341835736,-0.06299621392488847,-0.06391371829307348,-0.008042433804227853,-0.009891230361531467,-0.0440037864745317,-0.039791368190039735,-0.018778744864098754,0.0065533320012350505,-0.010698541697318183,0.047243232116474174,0.018217522366602023,-0.06018501721383213,-0.03595925623117379,0.019109173177025558,0.0574324218470005,-0.06708004889732369,-0.06315465401036914,-0.02304551554762031,0.0317647849214348,-0.019178932717202127,-0.057572815711961045,-0.02912089555949745,-0.004636123703074638,-0.021173527906525,-0.058172572097912656,-0.06211181596372376,-0.037539113614200426,-0.024909959926110725,-0.06282529296843091,0.01685506130925059,-0.010618658307164028,-0.05946773381621955,-0.05804112122034946,-0.06655485326559776,0.015253538642171154,-0.020731321883902625,-0.056679489027429815,0.005234322597749469,-0.06734748572009704,-0.09022758847938163,-0.06602176442246623,0.0048406286102782685,0.05812075886170721,-0.05772461823144376,-0.057939016672994996,-0.007217962815987245,-0.07017715877877205,0.003693498711044693,-0.03455774357122198,-0.058445483774511746,-0.06712259615185939,0.009542157233638522,-0.03406848186643024,-0.047713949377000076,-0.027130993162679366,-0.05986061222823856,-0.012144721182808705,-0.03495219920909479,0.03314467026819723,-0.056728115385497886,-0.001438054065651258,0.0009082523391111024,-0.06071021644534485,-0.012402615651099517,-0.04313643391641766,-0.049798060275325934,-0.009006248846351574,-0.06733969030943716,-0.010727921118235008,-0.06355822753461023,-0.05375966882724406,-0.033780393712843866,0.007230677631354133,-0.013361475296554683,-0.06591608915121631,-0.00675300336830836,-0.056133158205248807,-0.05909483417006132,-0.04089288171408719,-0.015504741863585532,-0.05794350511148003,-0.010260542185579027,0.020510202998386125,-0.003343346262565306,0.01420767214737029,-0.0627685368815268,-0.01614811029082235,-0.06981363520011334,-0.0578333795407255,-0.007926627884774015,-0.00018023168730580037,-0.05736368447253517,0.0092183811985391,-0.06380430427405819,-0.06622229928503842,0.030523114979579408,-0.04010535675365264,0.007775327791610527,-0.059404682415892154,-0.026338872092954477,-0.043314854071333043,-0.06246308005367194,0.04985004343015782,-0.05139866300409332,-0.01442480149631524,0.025989155753211243,-0.05396356583733494,0.0011661880586908411,-0.06432469152518254,-0.007417845399042502,-0.025103951256028347,0.02870673098485742,-0.05939383653317407,-0.06060988297040935,0.01760528577953659,-0.05926781121311353,-0.06518240861342547,-0.03600652847678008,-0.06802032355418497,-0.06761211520394622,-0.010008375273167882,0.007920561914607962,0.022357955834539877,-0.06480400727584323,-0.054990278104891106,-0.010674455826605327,-0.03677397273430802,-0.06531248124411558,-0.015312178714663038,-0.01768135954062572,-0.059161929524494374,-0.0668672718264275,-0.05526627375149026,0.04654786881429216,-0.010319526298298834,-0.06264464844188637,-0.009644068853921271,-0.050169638951348926,-0.06178456966593107,-0.06676230226498267,-0.06931748154069581,-0.06234213373626618,-0.02255744935080157,-0.06224163010141351,-0.008368423831946067,0.02566894716498162,-0.061266665901181155,-0.0680504803744938,0.0038245356949157417,0.01576284426300994,0.01812580674283821,-0.06696577948413789,-0.02117326366199995,0.04997181445065752,-0.07169866580081748,-0.0627709419449857,-0.03879604497424949,-0.04648823632482393,-0.004897738735814762,-0.06549536303462554,-0.06601527984736713,-0.025441689944248322,0.007140499403731077,-0.055234660570674145,0.018930871809932262,-0.06404555531100502,-0.06744554263767204,-0.05846328809352887,-0.061735770562399275,-0.06542289637963293,-0.09062791837855878,-0.06972972929994312,-0.047757382636882964,-0.03352244598559481,-0.06365880560991569,-0.03777975449888871,-0.014931851403351386,-0.06802311521999961,-0.04174422116848359,-0.06658882285889658,0.02762334884581075,-0.05992300483066815,-0.01228200926921093,-0.06568663791515954,-0.058664442843930055,-0.003827381950028647,-0.050707217490175566,-0.06535618948111342,-0.024539677539157798,0.004923591416475865,0.022761999086901977,-0.06068561494345278,0.022205465456444296,0.03412980979049009,-0.05950427080667084,-0.038828843367841495,-0.04708579661334422,0.027525847013010658,-0.059129803480946645,0.030282251212394647,0.010563533403106796,-0.05969103856181393,-0.06187271338000185,-0.06852984888206592,-0.002212198182651798,-0.002243489371970033,-0.053434865794460246,0.030318730930716055,-0.048133850937411356,-0.0701015669975569,-0.05616849612642311,-0.01957292516509175,-0.07127392268908793,-0.05928088383221367,-0.012820334850029395,-0.05720202592539812,-0.008343941585504744,-0.060769681016379376,-0.007589915816918813,-0.04482414751390783,-0.05632034088987425,-0.05713778611066624,-0.06842645564489945,-0.006430091876815357,-0.09910851402722874,-0.035281513354320816,-0.06034010372404285,-0.061957962981703495,-0.0362143975477518,-0.029375512631330612,-0.011903822094100751,0.038792321700350546,-0.035949704655314066,-0.0677131019098541,0.0248880981991965,-0.03180438433512325,-0.06095180366096275,-0.058621162348279375,-0.05528499091822784,-0.06911356820668438,0.02090713508213187,0.013922495534382193,-0.01578552820217625,-0.061842493575513545,-0.12145177280442764,-0.0704813485072699,-0.0458328082327884,-2.7048093664503887e-05,-0.017699584071756976,-0.061942508706210715,-0.0070437553867555335,-0.06886488730795685,-0.004391012814729428,-0.007976333628363245,-0.06576207853901807,-0.10447446305321617,-0.07103912519385314,0.007388507450283487,-0.012375601369057732,0.059478902977803144,-0.058103790852509496,-0.05922369904516972,0.058116393146389944,-0.06215911769830231,-0.056573180106058774,0.014420958041371354,-0.0043355791573823025,-0.012387477004885798,0.06031153780236781,-0.12410660963988376,-0.060237508908117514,-0.06977767484716468,-0.011332945757071044,-0.03622157366047737,0.0011226423001018033,-0.01695544151901362,-0.05553084056683346,0.017198862925671035,-0.06581006659237804,0.058748155073880134,0.013460935083066183,0.010182646129417081,-0.013121776946773108,-0.05800543439190337,-0.06107380971873397,-0.03960935529286878,-0.05966410693177219,0.023938337936643857,-0.06316257852374127,-0.05956178485937035,0.01941039312416531,-0.05841924029221414,-0.0594098977993796,-0.02675660229266584,-0.06469231759918245,6.434708491485846e-05,0.027787593182748267,0.006442011565332692,-0.06791612095237327,-0.025795079182205447,-3.4658210130666596e-05,-0.04358058709847613,-0.008168247640065011,-0.06414028929389455,-0.054931593693906676,0.027005253461334096,0.018340889046490227,-0.020667541838482368,-0.011238465247204182,-0.02401488317019583,0.010424317912222023,-0.00772531484105621,-0.06607604621153886,0.004197687001560331,-0.04239184267083395,-0.07015798955029327,0.010281590023321718,-0.06526824121866501,0.048717528911159894,-0.03208263987407255,-0.00847029904369989,-0.012310772132808732,0.03145375695293147,-0.059601093064110475,-0.06175093233361037,0.004248692018031932,-0.06775344531190629,-0.06865773317739439,-0.057505563457697806,-0.06513497092466118,-0.041091053080038846,0.04526860078498902,0.0027278339097454142,-0.06261774853328471,-0.05699254310586191,-0.05706130656364065,-0.05542955314213241,0.012431191030193101,-0.0672525893182738,-0.05741718449772147,0.018949783874421297,-0.06476251700207651,-0.06403073013568193,-0.067255360668063,-0.05687492752395153,-0.06715740632270405,-0.024129656477805957,-0.06637981490027013,-0.05841286767953903,-0.05726160360218403,-0.06419735997423413,-0.10993276848170785,-0.061824400506520105,-0.04710140773662826,-0.053672893800043496,-0.06390738494220223,-0.018302213008476342,-0.061702683796739155,-0.0659573302337788,-0.057654742608517884,-0.07169489806776716,-0.06004517896217682,-0.05589516377217843,-0.055830434316566285,-0.07096450813833236,-0.011722712052926377,-0.004538005569597685,-0.06691624111031688,-0.05967426223783301,-0.02869835157176706,0.05070138746695965],\"y\":[0.005966664084879879,-0.38116504284699476,0.3810559577173637,-0.0013432732566539683,-0.13386296299432257,0.1328485645923526,-0.0009505589130517193,-0.11611683369127905,-0.0027239539623643973,0.11457488698494914,0.2647834321497539,-0.007833154258765991,-0.26758086466859143,0.00022007982370366493,0.03717912670365732,0.22025261110669236,-0.222326364355394,0.05148683561057537,0.0015844087350414984,-0.0612860089052641,-0.05188373243480219,4.68670495714585e-05,-0.04646396534499651,-0.03894678483858905,0.04858735280441427,0.29925203039861276,0.0007086632016542646,0.054276039268141556,-0.30159654779944844,0.04022887393458916,-0.04266725283662322,0.33978784752812746,0.18862589733997978,-0.19298662604504413,-0.345272113146444,-0.08158036093749718,-0.15011662633255207,0.04373266667152594,0.10321337097220605,-0.001643151138140032,0.04274672654247117,0.03268429626006511,0.0009473915552713416,0.05045659561427893,-0.044627723272930166,-0.0425485545878989,-0.057327169011024935,-0.02969388809672346,0.10500097618529697,0.0016059479376943425,0.1617459509933104,0.05663027100480119,0.00047898275837070627,-0.05319508195911559,0.00012863329683559523,0.21592052231090175,-0.19346827852894377,-0.01196820620621569,-0.10285522171486328,0.10844671793719675,-0.07618053771365454,-0.0021323627110865955,0.02001462040762126,-0.014197271139897114,0.003259231749832118,-0.25749779694828406,0.001069977095302093,0.00038493158148329525,0.06969635483599759,0.035565058725723006,-0.10546012521970637,-0.14438865320449057,-0.3045669444379096,0.0410031669478941,0.07182026823750068,-0.034698657781713035,0.0050253308463513256,0.2539820559270569,-0.0008577126533402462,0.2967803574281726,0.3404158800659768,-0.023361502873477713,-0.3395277569657858,0.023685601444518534,0.011987744589820552,-0.03654004201182884,0.3810010932271817,-0.22892691456685602,-0.034183834868890664,-0.03881757310420882,0.0008471151020411923,0.14593380980858817,0.1744751392306913,0.005386805334693974,-0.03157258030127393,0.030864654677930325,-0.014411750004038779,0.08118325108282361,0.09404801580528381,-0.3811679209798445,-0.08144979377348052,-0.028083554852763034,-0.00277384238008633,0.034359563266412645,-0.07470010963133113,0.029210648479958603,0.2262567724337165,-0.1857594758486097,0.03883972205542496,-0.007843265692851027,0.027214073359471024,0.028118771338049076,-0.2649058405411457,0.003239172642917931,-0.014932670456622693,0.0029806915642357993,-0.1675331986203592,0.030931207135587373,0.016243767064955342,-0.035355077040696264,-0.1582338252469731,0.19222013631470558,-0.038624541081445495,-0.03172194263196296,-0.03589442657553813,0.06853998519932987,0.032481801194650176,-0.10193735608529275,0.001245821758660381,0.04430627898547929,0.107794796373441,0.25107233798368755,-0.22422955929495622,0.03381843805725923,0.015510351268144304,-0.04072033984548965,-0.04952485431576942,-0.01091409999048388,0.2697295343608311,0.029266742321400308,-0.026779234907566948,0.3430694169324029,-0.04465845937036848,0.06990664192249194,0.01242143299385047,0.011979549133328767,-0.036358676458044296,0.14211165623511746,-0.0019866973145130327,-0.10817480596978418,-0.018509741241721608,0.019545333913798445,-0.038349401350674266,-0.00356525621163549,-0.11346529861504576,0.03924242890176082,0.0045577017590359955,-0.021693760062728124,0.043240424159664975,-0.015646419057690496,-0.29826134252090086,-0.07983859799899379,0.0908270868680243,0.07857266105211919,0.0446584459495014,0.024911277861944976,-0.35238421438594664,-0.061795065189253165,0.19390233604845902,0.01422542480548662,0.039248617078185694,-0.02663436715160528,-0.2756466688836401,0.13235973113910937,0.12010407606202085,-0.11454153012558081,-0.001222292241992315,0.02405798519630707,0.028719299389611402,-0.19665198166682998,0.02008598503195974,-0.13256943842571617,0.221307130083716,-0.2862059836979825,-0.03932828899241298,-0.039755037900787396,-0.015283645907128262,0.041390294720265355,-0.22134980356459655,0.31168955589498915,-0.02130906162678438,0.32494395127988157,-0.00305522577041551,0.01194327232496729,-0.08856015257052777,0.3726490164306797,0.08695243829608446,0.12070504808665837,-0.33250558212154846,-0.07524799545582977,0.2796941563312553,0.000348514659168008,-0.0010955477571722614,0.002243915877050504,0.03207354775982505,0.16680870213842333,0.04292363627174202,-0.023561785219168845,-0.02523211254869149,-0.003294697575858217,-0.12318436277101788,0.032835696459563156,0.022936821972523617,0.005457718288243851,-0.02375752299853252,-0.054829932348330085,-0.009765887513505246,0.014945404389805664,-0.36521266839017896,-0.05554270312664858,0.054085810568213176,-0.012300897825581112,0.01929585712611142,-0.03085381328712609,-0.24277206956211098,-0.03029676637862762,-0.08940318421658254,-0.012828359285288266,0.023751883357485234,0.3519181223084388,0.0064059931299924105,-0.020991229314566182,-0.31340305707185556,0.007123394895665326,-0.3270106701478646,-0.05628301128842751,-0.021799899146835302,0.048258115401169366,0.1917166143585081,0.24558196510436858,0.006099718745423887,-0.1407125698543886,0.029516074395718083,0.08300638786744212,0.05660347415243516,-0.025736102081240393,0.009091427140469614,0.037580910202924464,0.0570861224311425,-0.005577014998637622,0.2732593791941481,-0.3570677732660476,0.08631172675648648,-0.02484216411727011,0.31472953481165206,-0.2509292539219593,-0.1687489618180757,0.03534105251570851,-0.05629407701288166,-0.013324321755889126,-0.016374319131374417,-0.03507641452985532,-0.019199751716156063,-0.16785663016381444,0.0073149827106543846,0.0029193898712738357,0.1653730050692101,-0.004487719953612988,0.3181542611085094,0.03580128412581339,-0.32122431586259165,-0.20341546196330038,0.3583434365463207,0.0099280582255998,-0.040507198746076736,-0.2148488171194955,0.23649301129751168,-0.037469106316251034,-0.24527288987490725,-0.002388684746025739,-0.02149604602967694,-0.014970084113689934,0.0004563962616157421,0.025235185388740703,0.009751945534994692,0.038388711521113006,0.19541043825960844,-0.026265737986314583,0.017579835407818007,-0.0016968541394265764,0.11193872595115821,0.020909080981845445,0.03645396053073484,0.07995870847877122,0.007628134330571962,-0.010959471388335371,0.16682452356230343,0.15393097875397996,-0.042589541658282784,0.28576569768561005,0.013700767646902156,-0.015091401443287517,-0.08168608664420904,0.03836463226716296,0.14706407829806348,-0.019979406120769556,-0.04197321212888464,-0.0388757220194849,-0.0018045341508088973,-0.03531811774537041,0.028622088048811462,-0.08652872509636356,-0.04356796546615697,0.02378579754612445,-0.0032899917501299524,0.042108691497080145,0.23166193486990128,0.02298335056010152,0.11798470518001361,-0.37091960291837894,-0.16512529595243094,-0.14060801373047807,-0.045595404064727424,0.02207904439464338,0.03717762483602701,0.0077580627335521474,-0.11973789951244883,0.038066854604150685,-0.1823012510872894,0.10029849411754842,0.02916710366283295,-0.08965596755476019,0.3620020978546957,0.06892009250757151,0.018972368048661065,0.12766032428239615,-0.03879070483725628,-0.23355386115179386,0.015966443651513843,-0.031997877070393164,-0.003633298720199025,0.042167677463840265,0.053794713250972105,-0.03380190480481733,0.33091710775291516,0.01917269464816218,-0.032714739176724815,-0.030046492808965305,-0.09775734584302868,0.07400406995202574,0.06792633016701592,0.019780074394056272,0.0034661624959667443,0.27596206367241477,-0.03166676096400811,0.0008079151129247459,-0.1805050735974096,-0.016558397131325012,-0.02756705658056407,-0.2699937207133777,-0.09077959420225121,-0.0020947084237724727,-0.014108715963001898,0.012148069597003526,0.019717991143899015,-0.06689051617421292,-0.07169225482356419,0.002249634964940162,-0.05016123211770515,0.12678399052583528,-0.03939585977684023,-0.03485062443183633,-0.04372002030135995,-0.0054133913720781504,-0.15161593169370313,0.24468883075975925,-0.098737688014863,-0.004569391618094361,-0.20355898104132153,0.03225601794138663,0.01450178491116621,0.26729668034962883,-0.006156441576743274,0.10200113746863372,-0.016593351973444068,0.06588978247932074,-0.010216068885862673,0.20699620910145383,0.10208291238117419,0.01276207838551575,0.08897119451231973,0.011471979168648788,0.02197477095286171,-0.1814814605670673,-0.002128304089954186,-0.04784687776481718,-0.01519786074397449,-0.026370557961634778,-0.042134148659745144,0.21263600797738347,0.0034984595072262473,0.04499352563165947,0.006208281141789311,0.011005203641207977,0.00019554792820362978,-0.03081700925992663,-0.2530340096361476,-0.2206789371682434,0.034564909970197503,-0.08221470916467326,-0.009649277332932343,-0.28328832972535306,-0.12255906119589295,-0.3630211074947955,-0.040588903933750003,0.0371123412766309,-0.03991899674238989,-0.02442876744306385,0.01544807191068807,0.008308317530601917,0.014514293330568511,-0.00822808224093812,0.04490951961520513,0.08660408505580565,-0.05622563783377754,0.0005700703946396128,0.297631723052753,0.020811873212220555,0.003019880341569954,0.01064600084552256,0.037337979207104195,0.03149748291722423,-0.15866035356040933,0.006918378376944517,0.010331020237530145,-0.0969507472065383,0.0023779803509986373,-0.10538950748921014,0.06254320834608897,-0.011677815229563676,-0.1156327747318113,-0.006393617424849343,0.004689953139206287,-0.11434992203136454,0.03564402743362684,0.20467068641657438,0.0197394296765749,-0.03368219449117362,0.0497714581414683,-0.021072191431118978,-0.14896671536695355,0.017752347760412977,-0.01027525563621016,0.0404950370198854,-0.02373106082347613,0.14629096250947976,0.024491180731895577,-0.00215915443276862,0.04192248549869695,-0.05973303094180985,-0.2854847878049837,-0.07166325574657602,-0.007157684272634936,-0.24449122949510327,-0.035773379297618986,0.17518537534031345,0.2009605819554896,-0.34595187141644357,-0.05629732840889323,0.0384666215475076,0.17832406947307947,0.2925470901553302,-0.12359984177678429,-0.041208314704174534,-0.011177264826027272,-0.0005093332730403398,0.03993792588056323,-0.0073773599172220795,0.0031648011335120973,0.20600315119459897,0.02699600702859618,-0.241183169661693,-0.029456251290069447,-0.32377693657271484,-0.2876539333691052,0.1224040795961593,-0.04751437483827145,0.18170526768473835,-0.2130783327757374,0.10902242119268132,-0.008401391067428217,0.026350764467408506,-0.062424508411699706,0.3562211421825801,-0.16695045376919082,-0.01896732265825357,0.2379476965986965,-0.004356974286323219,0.024140250795290016,-0.04095412057545792,0.035644725569972203,0.051090006961968124,-0.12226190876101758,0.08541499227990208,0.1016818106784337,-0.0754406977654985,0.06193320694924059,0.022658036936845885,-0.02917077737520714,-0.3811668521837649,0.008118632999885128,0.09703347731843157,-0.027549224058726722,-0.013724388875925232,-0.32454414269597354,0.04388725083046931,-0.06477921560735964,0.006563646581318905,0.07910068338670422,-0.017681763000042185,0.04337066131550879,0.051392727806807814,-0.04641863468795238,0.3593356250783796,-0.09584239243829609,-0.017934655367995,0.011012970849353536,-0.007686971554677046,0.03233938012209209,0.008775994466677477,-0.031117620455906003,-0.002748988227879551,0.049282420032591444,-0.039835923171970974,0.18092679068303738,-0.03951620012197913,-0.3018325029410477,-0.036351546725739425,0.008825828453001023,0.004258176703439522,0.001125888866776809,0.3678505203198137,-0.287889671406652,0.14151113669599813,-0.02774636234555298,0.3137075795645369,-0.3385895598317036,-0.005599838711479629,0.0038459397829010557,0.03817363851060797,0.040208358586293645,-0.015809247763143165,0.2531735775525201,-0.01163007440710825,-0.03559437732996344,0.0435222180397201,0.04014549576452087,-0.02378374124108532,0.014111492848848294,-0.030290375484353455,-0.20309210295914307,0.28285441471644607,-0.26527274046892624,-0.0018488811914515826,-0.004225000766120949,-0.2719965754008649,0.005080136166143391,0.12982281568166057,-0.006674696969829158,0.017386556767106685,-0.04935435992000273,-0.032919451621871376,-0.15240490862724337,-0.012388735272002915,0.26023292169831164,0.31055713415255193,-0.2830446662614782,-0.017386661046393446,-0.02841564611999796,-0.13557893836479112,-0.03072742394033579,0.00290190677246705,0.2967370151545634,-0.02818548452380823,0.036466078412811596,0.04548336561425052,-0.12991992605905892,0.16120013340444359,-0.2575440269947108,0.0038279426021126145,0.22776701324221066,-0.04798386460465603,-0.011102086903472313,-0.03153366014818693,-0.0059976049101756876,-0.019527019975591337,-0.010441783251645286,-0.04395785377844763,0.002016772856341917,0.257979642536073,0.04250888638784665,-0.017644057168299084,0.05218712424955758,0.0170292756973106,-0.008271525395914817,-0.022948481021975446,-0.006769737838788076,0.03669847117400459,-0.2693253794407224,-0.20341506324722733,0.212334287268288,-0.01427434630533757,0.01932313901405286,-0.011827353215829756,0.03321676941122661,0.10020295952916969,-0.03960024435186061,0.05374071205189017,0.36998846778310585,-0.0522577652198248,0.008715824927714534,0.030219400742359275,0.02622645612668311,-0.03326778321700457,0.1938435301996696,0.1764040903793722,0.3084529244522717,-0.30307502829748384,-0.04521889383121134,0.004659660490343038,0.03863224865501825,-0.04024771886672544,-0.0032878298294027357,0.3297325710251484,-0.020907602350368513,-0.06847387983454717,-0.020247846042114673,-0.026395598904920558,0.12045966475104676,-0.1886107057087116,-0.200539087304495,0.032931094198935494,0.3279355025470897,-0.31837975006368857,-0.06131831707718546,0.03552634470614519,0.0008945514722067588,-0.005370111853300196,0.01627700195557585,0.03790273473521852,0.1398745769011031,0.18857902112594432,-0.22821268017006405,0.08411092247015786,-0.025342843543788164,-0.11941393657895764,-0.10771666013010539,0.025204005460069793,0.005240760903186002,-0.04471403237604015,0.008253087244406248,-0.051001448802896004,-0.04424711647113995,-0.0036271020993864814,0.1599743838011241,-0.010875743595733924,-0.01899345858226163,0.05526091963850202,0.12979261430430997,-0.33460979287622705,0.01767224546438454,0.009260520739406678,0.003916664752198677,-0.08858184019955392,0.02382970426976728,0.014950412123606248,-0.043730477183799694,0.050622958014716585,0.1169742105567865,-0.004748448493414491,-0.0030065689120170247,0.2664827983799947,0.02181452493533013,0.030864618106447975,0.006288417154115456,-0.04704702775298507,-0.28980440742271113,-0.016190619788604525,-9.054860857044078e-06,0.06045606150685668,0.03120501799441334,0.03340616321931654,-0.001997206006386314,-0.18094066768052394,-0.02200015622429663,0.054056495524856224,0.06662127784828721,-0.13270560008825458,0.07099448637273141,-0.29997164933662535,0.037149665715213095,-0.039947088755136376,0.02477080772140294,0.15393473553480033,-0.039659040878363756,0.03869130742123231,0.026836786429450175,-0.021361190391015483,0.23085724649786413,-0.0889427428649755,-0.041598638411491605,0.0006380816579415792,0.11956961267973572,0.009682045111420625,-0.0115155135665665,0.16194205248501178,-0.04056949748371834,0.03961507844776285,-2.375801474800301e-05,-0.10109034148331297,-0.04427666190180514,0.03273973415050341,0.0005064922673272481,0.0011832790561865656,-0.007065095463862951,0.019978723788610882,-0.05350643180954042,0.1682358535982068,-0.0071203201702638936,-0.02408392883315413,-0.10335490215205852,0.021035360512521674,0.016429224383965425,0.24968964936079474,0.08414070729573367,0.023571507193361017,-0.04272676520630768,-0.03620613819134375,0.14962290051620145,0.04300566369069669,0.28937678409383266,-0.2400163029355608,-0.10281794612991628,0.007099604927127566,0.144118898213756,-0.007774998756275871,0.34949479918962617,-0.3537351798700718,-0.014753100410456006,-0.005105810822537036,0.04099778396988623,-0.1420464668158192,0.03214887247041946,0.038626954445601214,-0.047690688332974115,0.043680329747131715,0.026684334693851036,-0.03359053395409063,-0.03593454693339454,0.021667936642778555,0.024112299222634442,-0.21690972150012466,0.10015576182591722,-0.03884211657181645,0.03382003280575557,0.27294477855148286,-0.11780048497503766,-0.0309293480200639,0.11826450968005875,0.3259315315548634,-0.004194539726726328,0.3373423969996462,0.1322747155399186,-0.0054520446917171875,-0.00971868117809563,-0.017354980564220853,0.38083074707717446,0.1157501894411692,0.09593097635979304,-0.005493483741916124,-0.3674068913238271,0.02367751972724066,-0.03694248191262751,0.05859653391874607,-0.24738508196799702,0.15041311978132013,0.040165219097383735,-0.08425952246888792,-0.002992980223675327,0.05490482173023763,-0.02841469687839861,0.18605733488158466,-0.21371042056339717,-0.31303211227033534,0.08363971305062957,0.0005536280599660023,-0.15174124016633014,-0.02013639901055078,0.001292860015464225,-0.19456546390875945,0.024949008337523042,0.03805046876951507,0.010125634049599846,0.013359125789302073,0.22374384118659538,0.061892129791416554,-0.006518019417359612,0.34346782550364424,-0.33244940067502016,0.0038867210219227996,0.033071392898259055,-0.03814643632352642,-0.35805957652813913,-0.011545905006611347,-0.005472530338108286,-0.030174291745259398,-0.1095774040339715,-0.03537518990134846,-0.05277957405555705,-0.17659178115932814,0.1000498739921293,0.06961909871909322,-0.23922860139017774,-0.0023267915272574963,-0.3655928565029064,0.019149218167158404,0.023933553246527444,-0.23450437365829974,-0.081480059247906,-0.01587829338765948,0.2936858556850252,0.08859771014105035,-0.17096180651450107,0.020956549201658747,0.21212733840258718,-0.0372916367704323,-0.31055749345671174,0.03951457489527814,0.004582613131150782,-0.002729456847951458,-0.002697465716785339,0.01624963846749137,0.029130437761506173,-0.011365041998461273,0.07851960700778972,-0.02393071746262681,-0.0003485050784423771,-0.055644235289995986,-0.02954490201185218,0.006541084649422851,-0.0005499008593738803,0.0033004577883251882,-0.0006985640911659406,-0.0371659716923201,0.03072023749365967,-0.18560120048761372,-0.3453764277520175,0.038381421555886044,-0.030235989985270616,0.008676050330697911,0.013444775433580199,-0.03491669675952024,0.30452251826720866,-0.18061307702960158,0.044122303816148435,0.36840485031009473,-0.14377066420232928,0.11012010907789092,-0.0239705290851866,-0.04284890853208091,-0.2642386950993605,0.02630849416686593,0.002420755313971234,-0.035331695722501374,-0.16551806529662222,0.2146940958736661,0.03516985975512099,-0.0019917083340860544,-0.010378081718626489,0.28402849461524704,-0.12990067796113858,-0.022203386062347143,0.005776303317498888,0.04433781173431273,0.046061201820439,0.005345010892800945,0.09720759391218309,-0.026551913311876337,-0.0028396625416337216,-0.21254266130549654,0.15287665371114917,0.13372311682655086,-0.2528605855139392,-0.00044063483851364727,-0.008622843764926783,0.04557061211054969,0.05604443130425159,-0.00031348622478548745,-0.327296056519404,-0.021044538182256028,0.027918395136873296,-0.04113076036595686,-0.21038989197385613,0.044484139941295055,0.2331161359893261,0.04093025136819907,-0.07318801744587553,0.11214414044040738,0.0017504388420607512,-0.3726455802416359,0.031309943230950286,0.0061407099197741365,-0.0444191479982293,-0.09917266733377642,0.17515483291833764,-0.0461868483813295,-0.22884096017415373,-0.14131548356262477,-0.010840326900559132,0.011310019118466345,-0.05265584445062484,0.04181000000000001,0.0005461246280804801,0.04193828830961995,-0.27420081152662246,0.03915113443609583,-0.018780805720315874,-0.03703434970133344,0.0025148307337190252,-0.07093896659515292,0.008880262487751452,0.180593489054342,-0.04145386367647522,0.005358288604461986,-0.0009756247250653115,0.012216303734002216,0.08555075347966465,-0.09537584623276553,0.014071990919765902,-0.19108649465897923,0.023089080325917534,-0.11232662702407341,0.07577481964574653,-0.03130712786898549,-0.16044220980074164,-0.006975637861087411,0.006313524032512854,0.2619731917877747,-0.03748625842305356,0.020206470984821822,0.017231071907692814,0.012624963923688825,0.011906782790481837,-0.03808938052671053,0.019418714399428827,-0.06763190527467863,0.002790792344613387,0.09545293392903079,-0.021517871855749923,0.028751984410628425,-0.012188000000000015,0.1094540209471825,-0.03268703995635863,-0.030120909252480933,0.01150065292366951,0.2810848342224955,0.04147901935408676,-0.0033605817417551274,0.30324560859749405,-0.031220050483909974,0.12370884267682686,0.056921307010736874,0.030448580978016452,0.009800497963657333,0.06829545125596954,0.012176975879896038,0.0021460370515603094,-0.17372863225028382,-0.027764294531809414,-0.08448506097891548,-0.31192690710399773,0.029283283667776543,0.35978014871771063,0.003938035126517624,-0.00022782419046501781,0.041347978109926575,-0.31005694544105084,0.07165667942645162,0.08790874614412192,0.01764789128204282,0.023435188096259517,-0.15070738757518107,0.03310403246080817,-0.004783978837419349,-0.06484915451192211,-0.08603969487996016,-0.06814496942471947,0.004340443771948814,0.09649285679170555,0.04230197231776455,0.3477605135014771,0.23623777919372205,-0.002859147129474812,-0.036120012084968636,-0.0016703755459798859,-0.044079363010742105,-0.09302711696974453,-0.003763259106136534,0.10370467949362575,-0.02207990414423889,0.2234490215430795,-0.023271381761948463,-0.0034443690245769334,-0.34936094178791005,-0.1680021028577508,0.15179070238536382,-0.20902558247903177,0.328497875371029,-0.009342281655362564,0.021054717892624385,-0.34651706062193843,-0.03540146907078544,-0.006448287289147652,0.040760573413741084],\"z\":[-0.1659800487341711,0.07616694557369794,0.07604702532974338,0.24264343667594324,0.0351221252978048,0.039577190101379556,-0.36686555729479425,-0.28545899174467276,0.08179408848487615,-0.2866160273114261,0.0008120793609772731,-0.0302245328034045,0.004579128107850063,-0.310291925770521,0.09744700786344788,0.09773269647681364,0.09813786315553581,-0.000951964614147471,0.17821173254287484,0.10053517925854402,-0.0005960695140585859,-0.08945519107659622,-0.23395843524417245,0.1656911866583607,-0.23520416597051577,0.07696078531117789,-0.2868784039029364,0.01902609581858976,0.08537492857943708,0.1537639197168456,0.03549738764042691,0.010880637600968593,-0.010199967125085611,-0.008790804020708755,0.011747114037840158,-0.00968703156641914,0.10069004772200145,0.057277918084822646,0.09870409483257347,-0.2275053596709846,0.22273176765278035,-0.03805097659340485,0.04833106690343424,0.060257078894207526,0.10476847075444783,0.22965728111956335,-0.2950165933737058,-0.04051110513418201,-0.011462327957476336,-0.08950446158578276,0.0940861403487282,-0.29502207658724006,0.023217053308326508,0.05768414453988127,-0.3408408055231266,0.03976998618074061,0.04801984447967829,0.1272945649488327,-0.2298544835313492,-0.23073380180619818,0.045539684508480276,-0.20905153825914924,0.20085804929521836,0.13776741171532125,0.18982355765749864,0.05559431557164819,-0.2607795743749279,-0.1420100740123375,0.09860886472920424,0.10803340294894688,0.08434255270310675,-0.01177899554416839,0.036807513823361344,0.006703402812069246,0.06392293382792466,0.0060979702230424225,-0.27025416040036065,0.06545818983214939,-0.31997329125600815,0.032150950541447315,0.05712158387652435,-0.11358378445712593,0.06287035253030195,-0.1124792356094271,0.006170536926312678,0.0032188712030421646,0.02273703806223651,0.02294077002589393,0.07056134732160055,0.06229281703092917,0.13510408961222914,-5.099461030873067e-05,0.04549721774957626,-0.022577602048882123,0.21071991809885424,0.129301538248303,0.1783342978177388,-0.26221676930383125,0.028517888039789795,0.03531078787317885,-0.262915110239519,-0.07184511932218864,0.08889805852097507,0.059781534723942896,0.09218105352566996,-0.0258248391652371,0.0037268196689558683,0.086388187479558,0.029795939692658487,-0.23237949752466783,0.2175778077302433,-0.07362010652039305,0.09258538746880916,-0.3042056202002275,-0.1754288907808762,-0.12939466111890702,0.02081793603198487,0.07212770931539553,0.156975301719246,0.028646246740995897,0.0648595515517635,0.07511493175370058,0.13220669096714271,-0.27081851334521934,-0.022234603073289564,-0.012380556101245511,-0.26638640357744325,0.018759298168097734,-0.1935563572036249,0.029219998677187827,0.06432916657293028,0.03221218367026637,0.06227733370964603,0.18412648640905627,-0.059041980675396705,0.04015129649348597,0.028528855035889443,0.15929432511477803,0.09483972626897258,-0.002209376651160032,0.10296800629249239,0.09018937820430357,0.07370134347679201,0.09787120781606233,-0.19579374200295926,-0.0579181162932454,0.10316216088152115,0.06979944912359916,-0.34026175419150256,0.05613239378427195,-0.14813944427981013,-0.14628746601310666,0.1332943890426798,0.21391267571531,-0.010746366617936345,0.03257716819062073,0.11398891677361543,-0.06941155791829046,0.0838346261477491,0.05359440984275104,0.007447930693207704,0.0765341179398235,0.0813892854152552,-0.22625641590620593,0.11320321944460685,0.15770028586175222,0.08964671395276023,0.019325449761542962,0.018039589953972257,-0.17332031689969257,-0.005733453072261123,-0.29998887282808234,0.03262299396174984,0.09697457894007887,-0.2580425723428207,-0.25663351231215675,-0.26325410663029125,-0.2941011974297489,0.03566707616342692,0.020681887152145192,-0.2259401188953373,0.07515553468447446,0.06905947275350217,0.061330153423307006,0.008322495988677188,0.03161624267346772,0.02643970295821037,0.030638494030216273,-0.004333990297808287,0.0085653936949387,-0.01581506543343528,0.034679889359456574,-0.28073686070803705,0.049593459768567716,-0.28983306686118443,0.049194916694063257,-0.2892507833017849,0.011455894929887658,0.03589697396556841,-0.2290362244981557,0.05566451929315955,-0.3261793932488021,0.1540173805363579,-0.3140396839988096,0.13504268662965305,0.01740752656686822,0.08526215240112116,0.18932380445081842,0.20114309654227133,0.21531965663313274,0.10067000060002823,0.1756590863355974,-0.08501321858991362,-0.11569595020057279,-0.050296292871726246,0.06574120970200434,-0.04415250860923624,0.11554447931949939,0.05541332116675534,-0.009952669103764659,0.04493601989374684,-0.004555419361214042,0.0751825032993933,0.08964583834754722,0.07858294020642421,0.15710513714771301,0.10083664467095682,-0.20010440901429494,0.22466219755264982,0.03296175759215739,-0.2557906223992613,0.009795233056087878,0.06303654065026064,-0.23470951952988403,0.0910603529601207,-0.2637414923089165,-0.09424592084542797,0.07046114572012395,0.10006502310063206,0.0888067020156216,-0.21298706282716795,0.012782616205369279,-0.04741893525055227,0.00700979007769469,0.03436324085104495,-0.2474290180350446,0.13807120171292211,0.10517581006015421,-0.2622010766795468,-0.24536011020313328,0.023879752758713943,0.03265482463438172,0.08133428783288132,0.07581041094802013,0.05548602770855138,0.03414810154073679,0.04435181290023285,0.20128626528941967,0.024194064142356815,0.06813359351995181,-0.12427405122089065,0.028868796339077123,-0.09459906152973305,-0.011556588794507463,0.0006839611766590424,0.15851721715363545,0.06750695934586042,-0.29302496327249533,0.09045326157160723,0.00507689871090242,0.015858186776841896,0.07129764151676096,0.07154968627008808,-0.015719391364341532,0.054047228473907555,0.04115387726208342,0.05009575754962528,0.18991427306578987,-0.0005410189241902958,0.19937522409056085,0.2262987274387123,-0.07145239230525179,-0.3015590013384284,-0.025020045476578958,0.13565139817275085,0.05087028553464481,0.05285852450508156,-0.22029745538243245,0.09059041212436066,-0.34206021716707247,0.043237192257280066,-0.09249216410813182,-0.01997039246704946,0.04424185695644218,0.02752041848183647,-0.17848916772224102,-0.009732701587726312,0.0449758854564453,0.08547913584919808,0.00434801095513499,0.18134621898273579,0.10739766563805361,0.026976344292727432,0.01578077309871922,0.02390412803913985,0.048574515287061804,0.018033934732410096,0.042214153280859694,-0.14874690549963412,-0.021514953444665984,-0.06209540162371635,0.08332182145260994,0.05461403950156345,0.021106291759765756,-0.2849528337464632,0.1310582137967451,0.024803466493637082,-0.24636162568782102,0.08226658061573187,0.017044588508214588,0.08343483029358187,0.05597070642768098,0.09752427031976349,0.19932041594581526,0.04141860741865047,-0.10923642558173446,0.009332136089192814,0.14010254130487504,0.06753476190835807,-0.2533449150129439,0.016555726622870404,0.060775129115115185,0.015213551193152612,-0.24561149789205367,-0.12819182187874642,-0.008861233621963758,0.014480212223789181,0.044492591551952544,0.09609345044095599,0.15368250655927773,-0.16432581246874528,0.05155011407355139,0.09699821436591674,-0.03740717667483568,0.07426036518266806,-0.12839551187589135,0.17666613910971343,0.12376878425739765,0.0364802311284204,0.0272890327625262,-0.2782925964231546,0.17690720745042846,-0.2904407390185524,0.07620758214729949,0.045223441739878585,0.13190177603499556,0.007336228085618599,-0.147377722835155,0.10700318569692886,0.07270946249601727,-0.24549756839912973,-0.06737068894759253,-0.11371260088665076,-0.21100771958888773,0.05448277837873907,-0.24729048059101627,-0.27998849319909497,-0.32190860376154645,0.04371190085319129,0.05773436463906641,-0.004192932757472441,0.058751402588439264,0.12491451118030672,-0.05005292423444488,0.03165853115772891,0.011339108701185952,-0.27135125541716393,0.15442821685424402,0.09245194466178518,0.0808483704963213,-0.03701901856869718,0.042530866268780394,-0.19425205226285908,-0.27212523746194944,0.11846613169372158,0.07974851640705452,-0.22777130811093044,-0.005410029951568889,0.007421156618041528,-0.1551987324996043,0.06108625421309865,-0.14702755994128194,0.11855254823262534,0.03261269094180697,-0.1836823092566295,0.08698172651688175,-0.13243201177900776,-0.09166533692208513,0.0823461943145678,0.019709053031331546,-0.24983534236688779,0.047960295711927406,-0.23231694929398158,-0.040112694610526925,-0.3586303983639234,-0.05600179463574659,0.015691417171568828,0.07984393625449965,-0.014931409816226445,0.008558132644795,-0.2573783240221919,0.09284660521271046,-0.2400501362128567,0.07361913916177329,0.1445952954535823,0.10158187423418354,-0.2873893062439054,0.025216516913718526,-0.17219039992446403,0.22186006497632227,-0.2774374001342015,0.09915556355288602,0.07607331832899517,-0.010558082964440071,0.04644192260214451,-0.17043314160360268,0.05712200281030835,0.2122383376214933,-0.21174875410890487,-0.19496617492426765,0.014205681796712638,0.15670144033114863,0.005181071153916318,0.16237491968963225,0.06935375477237218,-0.000246249769320426,-0.3007663759086211,0.09358506391304923,0.004559186004815941,-0.10637458198741895,0.042250250972251706,0.009985919937170157,0.06565821143978988,0.07287306040082026,0.0889240345092001,0.08792828622200663,-0.07326296351186583,-0.006703962176763921,-0.2784029064951053,-0.1333056069972341,0.0800312708594808,-0.10153289916881167,-0.15992339559035645,0.06873375993751236,-0.031450925391630725,0.08496203642528863,-0.04478759579172438,-0.32559447024167165,0.023438399120484208,0.09537454900619946,0.019237542662311726,0.06391500526985591,-0.21516501155500256,0.09576130735965456,-0.010323373147866148,0.08310099204700229,0.0346526376040752,0.047859554210267365,0.03850583479046834,0.16929811306954257,0.0294847754138307,0.09260062276332211,0.05877402243083379,-0.25430908104130945,0.17905423681588425,-0.3484594011917139,-0.24997952264142556,0.14999391223778125,-0.30949394367784455,0.06713689459318413,0.05431510934230282,0.0608492984994955,0.1257420920974469,0.050063806024337174,0.045723302671985294,-0.2412235564136229,0.027026943393168905,0.06285051347210734,0.016475730246962764,0.02364875298885316,0.22658363681816315,-0.09149508587235873,0.08299442456360084,0.0528929816832978,0.10035130362170881,0.20952905691313042,0.06605642220989953,0.041426737780675585,0.03777762760435581,0.11417861610128827,-0.21993363105050492,0.08820116739849888,0.02566902565551808,-0.2428363104237003,0.07836777320504067,0.09191561330832657,-0.2250549419878948,-0.007323284113881024,0.17005635467409452,0.057521717217974944,-0.239486467252802,0.043541605154716195,-0.07748063546628597,0.14310141133671167,0.07459417542700124,0.030559784044513677,0.0032283059363738724,-0.1848377294209042,0.08599319675697975,-0.28037007655423785,0.04003858357183897,0.01190991162951634,0.04569882981193502,0.08819515707224691,0.08004983287579466,0.08398730895952619,0.22583578079585415,0.1653964258398196,0.04363673211206183,0.16428486794444153,0.01316539057332986,-0.3194618135685784,0.047291925591766655,0.11693886944521273,0.009572846111128883,0.15225620773065265,0.05329720065804617,0.08820577684109668,0.14621716411036462,-0.28491910252358355,-0.27663539448611985,0.03200123296656476,0.07732438127892086,0.05491415463063104,0.07389557327801101,0.07132410170127629,0.07969630068035098,-0.22187399030352972,-0.295362240409636,-0.007137090425051894,0.052560257385665506,0.030499881535295887,0.04676347386569734,0.06881749197510917,0.08674009883843405,0.009840526067559684,0.11840671402281878,-0.0535428538442483,-0.07723319004115115,0.021042116538792403,0.003198208621861844,0.03725141941587626,0.043679681410813305,0.1157656117498901,-0.2665439858713784,0.057876700224153525,-0.2812880649320447,0.022104850787251464,-0.24825310221509622,-0.2623917165983268,0.005214134554901148,0.0451623390336023,0.04592810672807504,-0.004810852547768535,0.017283652548361155,0.023411209672713217,0.003970183808659572,-0.018086531186519112,0.14100715809681655,0.08898268642675228,-0.05172704797276424,0.17099873961481227,0.015180560084759194,0.13855561755232967,0.03556039916299727,0.09899379757952101,-0.0007278926461911372,0.029912942078436283,0.07986254905181611,-0.07092668143593882,0.08462914308162713,0.011620042012527022,-0.026436012003719943,-0.01002794807118936,-0.26807452198225734,0.21503644464669616,0.03825843364008773,0.07114776037014593,-0.33148134371079374,0.07998742018312238,0.06866305848135533,-0.1610440707269448,0.012697494669480678,-0.009915720044123309,-0.2426880350832352,-0.03265959513981576,-0.2733104297042539,-0.2863266455623257,0.019162679764498987,0.05778719384671855,0.053367661529603184,-0.19030140224037728,0.01043463469424582,-0.08049586261396863,0.20006934561770534,0.09082758195615373,0.05218080858178788,-0.010113207139064452,0.06295041512193278,0.015797359229912822,0.20671055177943887,0.09758220636666406,0.10166936755982292,0.19573936890384463,0.003103418416745393,0.09782870959651525,0.04124706854915711,0.021464284455430468,0.08842277108455676,-0.23709960430780708,0.12138494991177887,0.023068277966310762,0.12646824112845687,0.048606019204948885,0.007097422819527787,0.03346838797337486,-0.23381358763504603,0.09738950877566585,-0.27328925848643426,0.10036756336622246,0.0347432194509282,-0.032417026209015175,0.019149906363229184,0.034538790506832194,-0.23257476782322345,0.15661746792233688,0.122768667932939,0.009898193823257887,0.04304409412062363,0.18711273799976602,0.013162740466122078,0.039719741395647594,0.008781045894134067,0.10081084463134102,0.034591683620050516,-0.2713237784876449,-0.2434130802493702,-0.012915802358603469,-0.25493010085287704,0.11341795887003372,0.20716839017004157,-0.27710233388649647,0.032372753989150425,-0.12686171739606855,0.005338813875652207,0.19446277942381346,0.16470071355150337,0.04245932029987636,0.06897835798809356,0.022600209140457423,-0.11502276539275566,0.035494236458876116,-0.22406113321576746,0.04652056451060934,-0.059634367016361156,-0.18624612582452624,0.05720794565279301,0.05879267664237866,0.09670802727197424,-0.18128725774050927,-0.14603099187131185,0.06228544928542256,0.16924635189659915,-0.05737510271848333,0.07982657367889479,0.057262891147062074,0.03155144020827163,0.19207650880159188,-0.2029243017709843,0.03546446349729323,0.19372674169141427,0.07474761765717917,-0.3010121146747194,0.0549696543029289,-0.1077251004324687,0.027561719592121024,0.050929687948770404,0.04763465973776006,-0.29190793843034435,0.06684543012458853,0.0008491309922343909,0.03934354687770921,0.06514222711457594,0.06990648392015301,0.04861886400639114,0.018735534952300178,0.003437283091556093,-0.08090507080447097,0.03970345800341554,-0.22739475180029928,0.0678271458207326,0.05956331708481892,0.03029060082672365,-0.2465116770312335,-0.2089539853457421,0.08164161327540043,-0.2216195744814439,0.09159375178768589,-0.3346230405543711,-0.255623201815882,0.07456002372291282,-0.23321277606676685,0.1029075742508642,-0.002734055969717009,-0.09978741560825588,-0.11460044126235581,-0.24829703107316195,0.054809172406615154,-0.29411570199269765,0.06166676315418855,0.06684804937400199,0.14132585789550114,-0.15868900405739128,-0.0013153843670476678,-0.27610945330158343,0.14405454081068544,0.04163653020198502,0.10365794434448697,0.09865565506073468,0.12822279619941593,0.06590273610978639,0.014624831032694692,-0.2877286073946434,-0.27093801387986305,0.03760345961569752,-0.1969489368870188,0.020223064042702226,0.06093449502009425,0.08751538184148916,-0.20811822949935854,0.09701255156395316,0.06754591195332191,0.17056406882033498,0.07354959816962144,0.10020394246555848,0.02935710595781759,0.1119720648927384,-0.23774659156312644,0.019923497717244606,0.03041175719573871,-0.10123367905108333,0.02893801925839498,-0.28736017798908065,-0.004163500488033851,0.01746543407133358,0.011327646704339507,0.08386543031414742,0.010914149090572828,0.06790142122594182,0.06200573191959094,-0.16197593076959627,0.03326951262563664,0.08382736379002508,-0.2421770851046426,0.2061344318442067,0.14994386637828783,0.03591924769387207,-0.0036372771710112134,-0.23532656865067267,-0.2628829350946158,0.04358105183102275,-0.10244568713660301,0.1817125293023843,0.07176275191634408,0.04495336009290784,-0.01238706752196319,0.054092061039317706,-0.2755987667538329,0.023962999763813064,-0.24665445304608338,0.11194762117950127,0.08768917675073598,0.05335339525479763,0.09097722905685716,0.02088282557920361,-0.3190358619867634,0.01969618568742756,-0.2658389821348037,-0.05101232257075859,0.07914773180041428,0.08854328934701648,0.147019813379203,-0.1274093254805893,-0.0904604984985995,0.05260352584076126,0.0896392517415115,0.14202253119852168,0.07746479597653841,0.009712741477840573,0.17697532035299884,0.030985941775628075,0.17615051299589696,0.016351691660127263,0.05618317287739218,0.22983804330814847,0.18929740069296552,0.003701378487375166,0.07330075297736682,0.03563892067023846,0.07619116464701432,0.05821621576925022,0.016523204934514882,0.03291868419078126,-0.32544203729041,0.0859848099788525,0.13020147350839514,-0.04325828568677517,0.08668788073453694,0.09486628116708196,-0.1665136161168444,0.04450478412278755,0.09390767811820243,0.06290904973260301,0.07841808299726548,0.005992050065891828,-0.016714471703588894,0.07635857154545728,0.06684660089593347,-0.302114237013315,-0.015040527194110177,-0.3103139797637953,0.2121615967135643,0.10058442648806004,-0.05656570999687626,0.0884650245480228,-0.0017996512407765614,0.1464328114245598,0.0762099124691642,-0.020211681255220045,-0.028411275338952584,-0.03373129392588255,-0.27429416777511434,-0.009242938134518363,0.019316267548615734,0.003998461292942991,0.017126097989302168,0.03516413119830235,0.16714831018440585,0.2052044254124995,0.12621487444854199,0.023740403659021386,0.05754431255652271,0.087288218429213,-0.010879991974973685,0.06484488941698881,0.07782651066044076,5.8861340754369855e-05,-0.243138134381491,-0.007123946773411374,-0.2661497555810606,0.03123674041888904,-0.27921060558026667,-0.040586087869638084,0.03244950545435458,0.031944339164526034,0.07962548768893879,-0.02728728007076491,-0.31038718512562335,-0.08301007838595245,0.019031720746945608,0.01758719159069962,0.15382203506726622,-0.26162436232919684,-0.2666088361122475,0.03534296898400488,-0.19464952280586606,0.08815032681280409,0.05683170793115767,-0.1156846311983369,0.06628530290781307,0.05547199703318152,0.0017600148980286001,0.06971611657210743,-0.10278348015506131,-0.15286220980912885,0.08921996665387391,0.09766533435234737,-0.35560070320962267,0.06170469540085432,0.13262128281892793,-0.07406228781684968,0.0073675881281567565,0.07953478876890226,-0.29611584278272546,0.07527402472827356,0.014117880507961108,-0.2919163225514092,0.05298028673316078,-0.3452044526817658,0.06620118851261059,-0.028344016365044775,-0.26866032064147377,0.054326738893860596,0.05319635706196129,-0.0006307600427249147,0.004771163194011971,0.07351657387353583,0.0252153348224607,-0.13587258757556142,-0.22860035159338488,-0.22274955412050898,0.03821534187642244,-0.3323593209385693,0.0862321961389181,0.08408434316377884,-0.004961469081511796,0.1697118170649186,0.09872728294063443,0.23317762127110783,0.01485470882928404,0.1924371560948028,0.052532849113092785,0.029810416821222183,-0.17232140408469687,-0.2210745413712628,-0.21681473201847587,0.05311397255698358,0.09045555218261389,0.15265068222744185,0.002938461858935242,0.13036483511061034,0.027161376365621975,0.07527608814259282,0.11336078231922118,0.05185692294199529,0.0790413500951948,-0.2473103975511926,0.027987705282960684,-0.0072151453543496,0.06385990273256686,-0.14005580205139606,0.08597632073332585,-0.134743111606967,0.1641387967996989,-0.02500622390400021,-0.26886040247921167,-0.2947060323158291,-0.0009006645548134825,0.04191177795643852,0.010231516502618063,0.21367873555675795,-0.2629458771720194,-0.033479399023952354,-0.027082713026060388,-0.28939073919057445,0.09030270034970553,0.10879836803448178,-0.3108601124464208,0.06559745705771489,0.227980226606178,0.047189416785588634,0.05040176595495757,0.14528577613150126,0.21688786696906726,-0.25826464552716905,0.10489097309682477,0.037354181774985555,0.09073605406095085,-0.06467489965273174,0.0874455047569398,0.04603870927740156,0.05135122246024606,0.041176327686186426,-0.2985022649736772,0.16593548672000835,0.04406466080283583,0.008259547619342606,0.03920834868638726,0.038587924448221726,0.019140551301257434,0.188511940672253,0.0895616978800228,0.22442111286888175,0.18510659987121264,0.04233086880335384,0.035278556718196706,0.07272680571668728,0.01628384939728789,0.07064537252445992,0.035125101690839426,0.06658887963655766,-0.002124711396906505,-0.24028551067715403,0.10061507145600751,-0.31482459890661924,0.017457274541837563,0.09178118838103357,-0.29506039563981895,0.0340297945690598,-0.10660208009954228,0.015374241161387709,0.05546804241845127,0.055947574458227164,0.07023010914588113,0.07355874996070046,0.012412980871029005,-0.006809254449750991,0.08464102603673065,-0.2232039749282009,-0.13305937910897253,0.023712225169912282,0.0797305595084723,-0.23809805465683262,0.002785029282982348],\"type\":\"scatter3d\"}],                        {\"template\":{\"data\":{\"bar\":[{\"error_x\":{\"color\":\"#2a3f5f\"},\"error_y\":{\"color\":\"#2a3f5f\"},\"marker\":{\"line\":{\"color\":\"#E5ECF6\",\"width\":0.5},\"pattern\":{\"fillmode\":\"overlay\",\"size\":10,\"solidity\":0.2}},\"type\":\"bar\"}],\"barpolar\":[{\"marker\":{\"line\":{\"color\":\"#E5ECF6\",\"width\":0.5},\"pattern\":{\"fillmode\":\"overlay\",\"size\":10,\"solidity\":0.2}},\"type\":\"barpolar\"}],\"carpet\":[{\"aaxis\":{\"endlinecolor\":\"#2a3f5f\",\"gridcolor\":\"white\",\"linecolor\":\"white\",\"minorgridcolor\":\"white\",\"startlinecolor\":\"#2a3f5f\"},\"baxis\":{\"endlinecolor\":\"#2a3f5f\",\"gridcolor\":\"white\",\"linecolor\":\"white\",\"minorgridcolor\":\"white\",\"startlinecolor\":\"#2a3f5f\"},\"type\":\"carpet\"}],\"choropleth\":[{\"colorbar\":{\"outlinewidth\":0,\"ticks\":\"\"},\"type\":\"choropleth\"}],\"contour\":[{\"colorbar\":{\"outlinewidth\":0,\"ticks\":\"\"},\"colorscale\":[[0.0,\"#0d0887\"],[0.1111111111111111,\"#46039f\"],[0.2222222222222222,\"#7201a8\"],[0.3333333333333333,\"#9c179e\"],[0.4444444444444444,\"#bd3786\"],[0.5555555555555556,\"#d8576b\"],[0.6666666666666666,\"#ed7953\"],[0.7777777777777778,\"#fb9f3a\"],[0.8888888888888888,\"#fdca26\"],[1.0,\"#f0f921\"]],\"type\":\"contour\"}],\"contourcarpet\":[{\"colorbar\":{\"outlinewidth\":0,\"ticks\":\"\"},\"type\":\"contourcarpet\"}],\"heatmap\":[{\"colorbar\":{\"outlinewidth\":0,\"ticks\":\"\"},\"colorscale\":[[0.0,\"#0d0887\"],[0.1111111111111111,\"#46039f\"],[0.2222222222222222,\"#7201a8\"],[0.3333333333333333,\"#9c179e\"],[0.4444444444444444,\"#bd3786\"],[0.5555555555555556,\"#d8576b\"],[0.6666666666666666,\"#ed7953\"],[0.7777777777777778,\"#fb9f3a\"],[0.8888888888888888,\"#fdca26\"],[1.0,\"#f0f921\"]],\"type\":\"heatmap\"}],\"heatmapgl\":[{\"colorbar\":{\"outlinewidth\":0,\"ticks\":\"\"},\"colorscale\":[[0.0,\"#0d0887\"],[0.1111111111111111,\"#46039f\"],[0.2222222222222222,\"#7201a8\"],[0.3333333333333333,\"#9c179e\"],[0.4444444444444444,\"#bd3786\"],[0.5555555555555556,\"#d8576b\"],[0.6666666666666666,\"#ed7953\"],[0.7777777777777778,\"#fb9f3a\"],[0.8888888888888888,\"#fdca26\"],[1.0,\"#f0f921\"]],\"type\":\"heatmapgl\"}],\"histogram\":[{\"marker\":{\"pattern\":{\"fillmode\":\"overlay\",\"size\":10,\"solidity\":0.2}},\"type\":\"histogram\"}],\"histogram2d\":[{\"colorbar\":{\"outlinewidth\":0,\"ticks\":\"\"},\"colorscale\":[[0.0,\"#0d0887\"],[0.1111111111111111,\"#46039f\"],[0.2222222222222222,\"#7201a8\"],[0.3333333333333333,\"#9c179e\"],[0.4444444444444444,\"#bd3786\"],[0.5555555555555556,\"#d8576b\"],[0.6666666666666666,\"#ed7953\"],[0.7777777777777778,\"#fb9f3a\"],[0.8888888888888888,\"#fdca26\"],[1.0,\"#f0f921\"]],\"type\":\"histogram2d\"}],\"histogram2dcontour\":[{\"colorbar\":{\"outlinewidth\":0,\"ticks\":\"\"},\"colorscale\":[[0.0,\"#0d0887\"],[0.1111111111111111,\"#46039f\"],[0.2222222222222222,\"#7201a8\"],[0.3333333333333333,\"#9c179e\"],[0.4444444444444444,\"#bd3786\"],[0.5555555555555556,\"#d8576b\"],[0.6666666666666666,\"#ed7953\"],[0.7777777777777778,\"#fb9f3a\"],[0.8888888888888888,\"#fdca26\"],[1.0,\"#f0f921\"]],\"type\":\"histogram2dcontour\"}],\"mesh3d\":[{\"colorbar\":{\"outlinewidth\":0,\"ticks\":\"\"},\"type\":\"mesh3d\"}],\"parcoords\":[{\"line\":{\"colorbar\":{\"outlinewidth\":0,\"ticks\":\"\"}},\"type\":\"parcoords\"}],\"pie\":[{\"automargin\":true,\"type\":\"pie\"}],\"scatter\":[{\"marker\":{\"colorbar\":{\"outlinewidth\":0,\"ticks\":\"\"}},\"type\":\"scatter\"}],\"scatter3d\":[{\"line\":{\"colorbar\":{\"outlinewidth\":0,\"ticks\":\"\"}},\"marker\":{\"colorbar\":{\"outlinewidth\":0,\"ticks\":\"\"}},\"type\":\"scatter3d\"}],\"scattercarpet\":[{\"marker\":{\"colorbar\":{\"outlinewidth\":0,\"ticks\":\"\"}},\"type\":\"scattercarpet\"}],\"scattergeo\":[{\"marker\":{\"colorbar\":{\"outlinewidth\":0,\"ticks\":\"\"}},\"type\":\"scattergeo\"}],\"scattergl\":[{\"marker\":{\"colorbar\":{\"outlinewidth\":0,\"ticks\":\"\"}},\"type\":\"scattergl\"}],\"scattermapbox\":[{\"marker\":{\"colorbar\":{\"outlinewidth\":0,\"ticks\":\"\"}},\"type\":\"scattermapbox\"}],\"scatterpolar\":[{\"marker\":{\"colorbar\":{\"outlinewidth\":0,\"ticks\":\"\"}},\"type\":\"scatterpolar\"}],\"scatterpolargl\":[{\"marker\":{\"colorbar\":{\"outlinewidth\":0,\"ticks\":\"\"}},\"type\":\"scatterpolargl\"}],\"scatterternary\":[{\"marker\":{\"colorbar\":{\"outlinewidth\":0,\"ticks\":\"\"}},\"type\":\"scatterternary\"}],\"surface\":[{\"colorbar\":{\"outlinewidth\":0,\"ticks\":\"\"},\"colorscale\":[[0.0,\"#0d0887\"],[0.1111111111111111,\"#46039f\"],[0.2222222222222222,\"#7201a8\"],[0.3333333333333333,\"#9c179e\"],[0.4444444444444444,\"#bd3786\"],[0.5555555555555556,\"#d8576b\"],[0.6666666666666666,\"#ed7953\"],[0.7777777777777778,\"#fb9f3a\"],[0.8888888888888888,\"#fdca26\"],[1.0,\"#f0f921\"]],\"type\":\"surface\"}],\"table\":[{\"cells\":{\"fill\":{\"color\":\"#EBF0F8\"},\"line\":{\"color\":\"white\"}},\"header\":{\"fill\":{\"color\":\"#C8D4E3\"},\"line\":{\"color\":\"white\"}},\"type\":\"table\"}]},\"layout\":{\"annotationdefaults\":{\"arrowcolor\":\"#2a3f5f\",\"arrowhead\":0,\"arrowwidth\":1},\"autotypenumbers\":\"strict\",\"coloraxis\":{\"colorbar\":{\"outlinewidth\":0,\"ticks\":\"\"}},\"colorscale\":{\"diverging\":[[0,\"#8e0152\"],[0.1,\"#c51b7d\"],[0.2,\"#de77ae\"],[0.3,\"#f1b6da\"],[0.4,\"#fde0ef\"],[0.5,\"#f7f7f7\"],[0.6,\"#e6f5d0\"],[0.7,\"#b8e186\"],[0.8,\"#7fbc41\"],[0.9,\"#4d9221\"],[1,\"#276419\"]],\"sequential\":[[0.0,\"#0d0887\"],[0.1111111111111111,\"#46039f\"],[0.2222222222222222,\"#7201a8\"],[0.3333333333333333,\"#9c179e\"],[0.4444444444444444,\"#bd3786\"],[0.5555555555555556,\"#d8576b\"],[0.6666666666666666,\"#ed7953\"],[0.7777777777777778,\"#fb9f3a\"],[0.8888888888888888,\"#fdca26\"],[1.0,\"#f0f921\"]],\"sequentialminus\":[[0.0,\"#0d0887\"],[0.1111111111111111,\"#46039f\"],[0.2222222222222222,\"#7201a8\"],[0.3333333333333333,\"#9c179e\"],[0.4444444444444444,\"#bd3786\"],[0.5555555555555556,\"#d8576b\"],[0.6666666666666666,\"#ed7953\"],[0.7777777777777778,\"#fb9f3a\"],[0.8888888888888888,\"#fdca26\"],[1.0,\"#f0f921\"]]},\"colorway\":[\"#636efa\",\"#EF553B\",\"#00cc96\",\"#ab63fa\",\"#FFA15A\",\"#19d3f3\",\"#FF6692\",\"#B6E880\",\"#FF97FF\",\"#FECB52\"],\"font\":{\"color\":\"#2a3f5f\"},\"geo\":{\"bgcolor\":\"white\",\"lakecolor\":\"white\",\"landcolor\":\"#E5ECF6\",\"showlakes\":true,\"showland\":true,\"subunitcolor\":\"white\"},\"hoverlabel\":{\"align\":\"left\"},\"hovermode\":\"closest\",\"mapbox\":{\"style\":\"light\"},\"paper_bgcolor\":\"white\",\"plot_bgcolor\":\"#E5ECF6\",\"polar\":{\"angularaxis\":{\"gridcolor\":\"white\",\"linecolor\":\"white\",\"ticks\":\"\"},\"bgcolor\":\"#E5ECF6\",\"radialaxis\":{\"gridcolor\":\"white\",\"linecolor\":\"white\",\"ticks\":\"\"}},\"scene\":{\"xaxis\":{\"backgroundcolor\":\"#E5ECF6\",\"gridcolor\":\"white\",\"gridwidth\":2,\"linecolor\":\"white\",\"showbackground\":true,\"ticks\":\"\",\"zerolinecolor\":\"white\"},\"yaxis\":{\"backgroundcolor\":\"#E5ECF6\",\"gridcolor\":\"white\",\"gridwidth\":2,\"linecolor\":\"white\",\"showbackground\":true,\"ticks\":\"\",\"zerolinecolor\":\"white\"},\"zaxis\":{\"backgroundcolor\":\"#E5ECF6\",\"gridcolor\":\"white\",\"gridwidth\":2,\"linecolor\":\"white\",\"showbackground\":true,\"ticks\":\"\",\"zerolinecolor\":\"white\"}},\"shapedefaults\":{\"line\":{\"color\":\"#2a3f5f\"}},\"ternary\":{\"aaxis\":{\"gridcolor\":\"white\",\"linecolor\":\"white\",\"ticks\":\"\"},\"baxis\":{\"gridcolor\":\"white\",\"linecolor\":\"white\",\"ticks\":\"\"},\"bgcolor\":\"#E5ECF6\",\"caxis\":{\"gridcolor\":\"white\",\"linecolor\":\"white\",\"ticks\":\"\"}},\"title\":{\"x\":0.05},\"xaxis\":{\"automargin\":true,\"gridcolor\":\"white\",\"linecolor\":\"white\",\"ticks\":\"\",\"title\":{\"standoff\":15},\"zerolinecolor\":\"white\",\"zerolinewidth\":2},\"yaxis\":{\"automargin\":true,\"gridcolor\":\"white\",\"linecolor\":\"white\",\"ticks\":\"\",\"title\":{\"standoff\":15},\"zerolinecolor\":\"white\",\"zerolinewidth\":2}}},\"scene\":{\"domain\":{\"x\":[0.0,1.0],\"y\":[0.0,1.0]},\"xaxis\":{\"title\":{\"text\":\"A\"}},\"yaxis\":{\"title\":{\"text\":\"B\"}},\"zaxis\":{\"title\":{\"text\":\"C\"}}},\"legend\":{\"tracegroupgap\":0},\"margin\":{\"t\":60}},                        {\"responsive\": true}                    ).then(function(){\n",
              "                            \n",
              "var gd = document.getElementById('72dd6306-a96a-412e-ad08-ecdea002076a');\n",
              "var x = new MutationObserver(function (mutations, observer) {{\n",
              "        var display = window.getComputedStyle(gd).display;\n",
              "        if (!display || display === 'none') {{\n",
              "            console.log([gd, 'removed!']);\n",
              "            Plotly.purge(gd);\n",
              "            observer.disconnect();\n",
              "        }}\n",
              "}});\n",
              "\n",
              "// Listen for the removal of the full notebook cells\n",
              "var notebookContainer = gd.closest('#notebook-container');\n",
              "if (notebookContainer) {{\n",
              "    x.observe(notebookContainer, {childList: true});\n",
              "}}\n",
              "\n",
              "// Listen for the clearing of the current output cell\n",
              "var outputEl = gd.closest('.output');\n",
              "if (outputEl) {{\n",
              "    x.observe(outputEl, {childList: true});\n",
              "}}\n",
              "\n",
              "                        })                };                            </script>        </div>\n",
              "</body>\n",
              "</html>"
            ]
          },
          "metadata": {}
        }
      ]
    },
    {
      "cell_type": "code",
      "source": [
        "data=point_clouds"
      ],
      "metadata": {
        "id": "gSYAtFuAbhQa"
      },
      "execution_count": null,
      "outputs": []
    },
    {
      "cell_type": "code",
      "source": [
        "import torch"
      ],
      "metadata": {
        "id": "ILzRhWWcdXwV"
      },
      "execution_count": null,
      "outputs": []
    },
    {
      "cell_type": "code",
      "source": [
        "mean = torch.mean(data, dim=1, keepdim=True)\n",
        "\n",
        "# Subtract the mean from each point\n",
        "normalized = data - mean\n"
      ],
      "metadata": {
        "id": "4wKQ3Dg3dDjX"
      },
      "execution_count": null,
      "outputs": []
    },
    {
      "cell_type": "code",
      "source": [
        "for i in range(len(data)):\n",
        "  data[i]=torch.Tensor(data[i])"
      ],
      "metadata": {
        "id": "A7D7sr8cdaRK"
      },
      "execution_count": null,
      "outputs": []
    },
    {
      "cell_type": "code",
      "source": [
        "type(torch.Tensor(data[0]))"
      ],
      "metadata": {
        "colab": {
          "base_uri": "https://localhost:8080/"
        },
        "id": "ww0NVV0QKMUY",
        "outputId": "716262de-8065-48b1-c3e8-62dcbf009e10"
      },
      "execution_count": null,
      "outputs": [
        {
          "output_type": "execute_result",
          "data": {
            "text/plain": [
              "torch.Tensor"
            ]
          },
          "metadata": {},
          "execution_count": 27
        }
      ]
    },
    {
      "cell_type": "code",
      "source": [
        "import torch\n",
        "\n",
        "# Generate dummy data with the shape [batch_size, 1024, 3]\n",
        "data = torch.randn(32, 1024, 3)\n",
        "\n",
        "# Calculate the mean of the point coordinates\n",
        "mean = torch.mean(data, dim=1, keepdim=True)\n",
        "\n",
        "# Subtract the mean from each point\n",
        "output = data - mean\n",
        "\n",
        "# Print the shape of the output tensor\n",
        "print(output.shape)"
      ],
      "metadata": {
        "colab": {
          "base_uri": "https://localhost:8080/"
        },
        "id": "Yy7NUOqKdShT",
        "outputId": "d8dc6d1c-3d5f-4a9c-ee76-70c843a7e030"
      },
      "execution_count": null,
      "outputs": [
        {
          "output_type": "stream",
          "name": "stdout",
          "text": [
            "torch.Size([32, 1024, 3])\n"
          ]
        }
      ]
    },
    {
      "cell_type": "code",
      "source": [],
      "metadata": {
        "id": "GMyJ_C4XdSx-"
      },
      "execution_count": null,
      "outputs": []
    },
    {
      "cell_type": "markdown",
      "source": [
        "#projection loss"
      ],
      "metadata": {
        "id": "VbIFJCG3yJgu"
      }
    },
    {
      "cell_type": "code",
      "source": [
        "def create_projection(point_cloud):\n",
        "    # Generate the x, y, and z coordinates of the points\n",
        "    x = point_cloud[:, 0]\n",
        "    y = point_cloud[:, 1]\n",
        "    z = point_cloud[:, 2]\n",
        "\n",
        "    # Calculate the 2D projection of the points\n",
        "    projection = torch.stack([x, y], dim=1)\n",
        "\n",
        "    return projection\n",
        "\n",
        "# Generate a batch of dummy point cloud data with the shape [batch_size, num_points, 3]\n",
        "generated = torch.randn(32, 1024, 3)\n",
        "ground_truth = torch.randn(32, 1024, 3)\n",
        "\n",
        "# Create 2D projections of the point clouds\n",
        "generated_projection = create_projection(generated)\n",
        "ground_truth_projection = create_projection(ground_truth)\n",
        "\n",
        "# Calculate the loss between the generated and ground truth projections\n",
        "loss = torch.nn.MSELoss()(generated_projection, ground_truth_projection)\n",
        "\n",
        "# Print the calculated loss\n",
        "print(loss)"
      ],
      "metadata": {
        "colab": {
          "base_uri": "https://localhost:8080/"
        },
        "id": "jl43-yMGyK_5",
        "outputId": "6fd4fe4f-3e88-4216-8730-7c8a88f721f8"
      },
      "execution_count": null,
      "outputs": [
        {
          "output_type": "stream",
          "name": "stdout",
          "text": [
            "tensor(2.0317)\n"
          ]
        }
      ]
    },
    {
      "cell_type": "code",
      "source": [
        "# Define the loss function\n",
        "loss_fn = torch.nn.MSELoss()\n",
        "\n",
        "# Define the optimizer\n",
        "optimizer = torch.optim.Adam(model.parameters())\n",
        "\n",
        "# Train the model for a number of epochs\n",
        "for epoch in range(num_epochs):\n",
        "    # Loop over the point cloud data\n",
        "    for point_cloud, ground_truth in data_loader:\n",
        "        # Create projections of the point cloud and ground truth\n",
        "        projections = []\n",
        "        for viewpoint in viewpoints:\n",
        "            projections.append(create_projection(point_cloud, viewpoint))\n",
        "            projections.append(create_projection(ground_truth, viewpoint))\n",
        "\n",
        "        # Concatenate the projections\n",
        "        projections = torch.cat(projections, dim=1)\n",
        "\n",
        "        # Move the data to the GPU, if available\n",
        "        if torch.cuda.is_available():\n",
        "            point_cloud = point_cloud.cuda()\n",
        "            ground_truth = ground_truth.cuda()\n",
        "            projections = projections.cuda()\n",
        "\n",
        "        # Pass the data through the model\n",
        "        decoded = model(point_cloud)\n",
        "\n",
        "        # Calculate the reconstruction loss\n",
        "        reconstruction_loss = loss_fn(decoded, ground_truth)\n",
        "\n",
        "        # Calculate the projection loss\n",
        "        projection_loss = loss_fn(projections, decoded)\n",
        "\n",
        "        # Calculate the total loss\n",
        "        loss = reconstruction_loss + projection_loss\n",
        "\n",
        "        # Backpropagate the error and update the model parameters\n",
        "        optimizer.zero_grad()\n",
        "        loss.backward()\n",
        "        optimizer.step()\n",
        "\n",
        "    # Print the loss for the current epoch\n",
        "    print(f\"Epoch {epoch}: Loss = {loss.item()}\")"
      ],
      "metadata": {
        "id": "MrVwoiDVyMQ7"
      },
      "execution_count": null,
      "outputs": []
    }
  ]
}